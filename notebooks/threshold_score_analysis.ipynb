{
 "cells": [
  {
   "cell_type": "markdown",
   "metadata": {},
   "source": [
    "* Overview: Purpose of this notebook is to analyze the sample data downloaded from the Subsalt portal and to understand the data structure and the features. There are some findings being shared in this notebook."
   ]
  },
  {
   "cell_type": "code",
   "execution_count": 1,
   "metadata": {},
   "outputs": [
    {
     "data": {
      "text/html": [
       "<div>\n",
       "<style scoped>\n",
       "    .dataframe tbody tr th:only-of-type {\n",
       "        vertical-align: middle;\n",
       "    }\n",
       "\n",
       "    .dataframe tbody tr th {\n",
       "        vertical-align: top;\n",
       "    }\n",
       "\n",
       "    .dataframe thead th {\n",
       "        text-align: right;\n",
       "    }\n",
       "</style>\n",
       "<table border=\"1\" class=\"dataframe\">\n",
       "  <thead>\n",
       "    <tr style=\"text-align: right;\">\n",
       "      <th></th>\n",
       "      <th>metadata</th>\n",
       "      <th>schema</th>\n",
       "      <th>genconfig</th>\n",
       "      <th>privacy</th>\n",
       "      <th>quality</th>\n",
       "    </tr>\n",
       "  </thead>\n",
       "  <tbody>\n",
       "    <tr>\n",
       "      <th>0</th>\n",
       "      <td>{'runtime_end': '2024-11-12T08:47:19.855989', ...</td>\n",
       "      <td>[{'name': 'agency_abbr', 'type': 'string', 'sy...</td>\n",
       "      <td>{'type': 'SubsaltTVAE', 'epochs': '100', 'lear...</td>\n",
       "      <td>[{'name': 'Minimum row count', 'threshold': 30...</td>\n",
       "      <td>[]</td>\n",
       "    </tr>\n",
       "    <tr>\n",
       "      <th>1</th>\n",
       "      <td>{'runtime_end': '2024-11-12T08:47:24.279947', ...</td>\n",
       "      <td>[{'name': 'year', 'type': 'integer', 'synthesi...</td>\n",
       "      <td>{'type': 'SubsaltTVAE', 'epochs': '100', 'lear...</td>\n",
       "      <td>[{'name': 'Check distance distributions betwee...</td>\n",
       "      <td>[]</td>\n",
       "    </tr>\n",
       "    <tr>\n",
       "      <th>2</th>\n",
       "      <td>{'runtime_end': '2024-11-12T08:47:35.348316', ...</td>\n",
       "      <td>[{'name': 'agency_abbr', 'type': 'string', 'sy...</td>\n",
       "      <td>{'type': 'SubsaltTVAE', 'epochs': '100', 'lear...</td>\n",
       "      <td>[{'name': 'Minimum row count', 'threshold': 30...</td>\n",
       "      <td>[]</td>\n",
       "    </tr>\n",
       "    <tr>\n",
       "      <th>3</th>\n",
       "      <td>{'runtime_end': '2024-11-12T08:47:48.605414', ...</td>\n",
       "      <td>[{'name': 'year', 'type': 'integer', 'synthesi...</td>\n",
       "      <td>{'type': 'SubsaltCopulaGAN', 'epochs': '100', ...</td>\n",
       "      <td>[{'name': 'Minimum row count', 'threshold': 30...</td>\n",
       "      <td>[]</td>\n",
       "    </tr>\n",
       "    <tr>\n",
       "      <th>4</th>\n",
       "      <td>{'runtime_end': '2024-11-12T08:47:57.323314', ...</td>\n",
       "      <td>[{'name': 'agency_abbr', 'type': 'string', 'sy...</td>\n",
       "      <td>{'type': 'SubsaltCopulaGAN', 'epochs': '100', ...</td>\n",
       "      <td>[{'name': 'Minimum row count', 'threshold': 30...</td>\n",
       "      <td>[]</td>\n",
       "    </tr>\n",
       "  </tbody>\n",
       "</table>\n",
       "</div>"
      ],
      "text/plain": [
       "                                            metadata  \\\n",
       "0  {'runtime_end': '2024-11-12T08:47:19.855989', ...   \n",
       "1  {'runtime_end': '2024-11-12T08:47:24.279947', ...   \n",
       "2  {'runtime_end': '2024-11-12T08:47:35.348316', ...   \n",
       "3  {'runtime_end': '2024-11-12T08:47:48.605414', ...   \n",
       "4  {'runtime_end': '2024-11-12T08:47:57.323314', ...   \n",
       "\n",
       "                                              schema  \\\n",
       "0  [{'name': 'agency_abbr', 'type': 'string', 'sy...   \n",
       "1  [{'name': 'year', 'type': 'integer', 'synthesi...   \n",
       "2  [{'name': 'agency_abbr', 'type': 'string', 'sy...   \n",
       "3  [{'name': 'year', 'type': 'integer', 'synthesi...   \n",
       "4  [{'name': 'agency_abbr', 'type': 'string', 'sy...   \n",
       "\n",
       "                                           genconfig  \\\n",
       "0  {'type': 'SubsaltTVAE', 'epochs': '100', 'lear...   \n",
       "1  {'type': 'SubsaltTVAE', 'epochs': '100', 'lear...   \n",
       "2  {'type': 'SubsaltTVAE', 'epochs': '100', 'lear...   \n",
       "3  {'type': 'SubsaltCopulaGAN', 'epochs': '100', ...   \n",
       "4  {'type': 'SubsaltCopulaGAN', 'epochs': '100', ...   \n",
       "\n",
       "                                             privacy quality  \n",
       "0  [{'name': 'Minimum row count', 'threshold': 30...      []  \n",
       "1  [{'name': 'Check distance distributions betwee...      []  \n",
       "2  [{'name': 'Minimum row count', 'threshold': 30...      []  \n",
       "3  [{'name': 'Minimum row count', 'threshold': 30...      []  \n",
       "4  [{'name': 'Minimum row count', 'threshold': 30...      []  "
      ]
     },
     "execution_count": 1,
     "metadata": {},
     "output_type": "execute_result"
    }
   ],
   "source": [
    "# load json file into pandas dataframe\n",
    "import pandas as pd\n",
    "import json\n",
    "import warnings\n",
    "\n",
    "warnings.filterwarnings(\"ignore\")\n",
    "\n",
    "json_data = open(\"../data/sample_data_1122.json\").read()\n",
    "data = json.loads(json_data)\n",
    "df = pd.DataFrame(data)\n",
    "df.head()"
   ]
  },
  {
   "cell_type": "code",
   "execution_count": 2,
   "metadata": {},
   "outputs": [
    {
     "data": {
      "text/plain": [
       "(92, 8)"
      ]
     },
     "execution_count": 2,
     "metadata": {},
     "output_type": "execute_result"
    }
   ],
   "source": [
    "# expand column of dictionaries into separate columns\n",
    "df = pd.concat(\n",
    "    [df.drop([\"genconfig\"], axis=1), df[\"genconfig\"].apply(pd.Series)], axis=1\n",
    ")\n",
    "df.shape"
   ]
  },
  {
   "cell_type": "code",
   "execution_count": 3,
   "metadata": {},
   "outputs": [
    {
     "data": {
      "text/html": [
       "<div>\n",
       "<style scoped>\n",
       "    .dataframe tbody tr th:only-of-type {\n",
       "        vertical-align: middle;\n",
       "    }\n",
       "\n",
       "    .dataframe tbody tr th {\n",
       "        vertical-align: top;\n",
       "    }\n",
       "\n",
       "    .dataframe thead th {\n",
       "        text-align: right;\n",
       "    }\n",
       "</style>\n",
       "<table border=\"1\" class=\"dataframe\">\n",
       "  <thead>\n",
       "    <tr style=\"text-align: right;\">\n",
       "      <th></th>\n",
       "      <th>metadata</th>\n",
       "      <th>schema</th>\n",
       "      <th>privacy</th>\n",
       "      <th>quality</th>\n",
       "      <th>type</th>\n",
       "      <th>epochs</th>\n",
       "      <th>learning_rate</th>\n",
       "      <th>batch_size</th>\n",
       "    </tr>\n",
       "  </thead>\n",
       "  <tbody>\n",
       "    <tr>\n",
       "      <th>0</th>\n",
       "      <td>{'runtime_end': '2024-11-12T08:47:19.855989', ...</td>\n",
       "      <td>[{'name': 'agency_abbr', 'type': 'string', 'sy...</td>\n",
       "      <td>[{'name': 'Minimum row count', 'threshold': 30...</td>\n",
       "      <td>[]</td>\n",
       "      <td>SubsaltTVAE</td>\n",
       "      <td>100</td>\n",
       "      <td>0.0002</td>\n",
       "      <td>50000</td>\n",
       "    </tr>\n",
       "    <tr>\n",
       "      <th>1</th>\n",
       "      <td>{'runtime_end': '2024-11-12T08:47:24.279947', ...</td>\n",
       "      <td>[{'name': 'year', 'type': 'integer', 'synthesi...</td>\n",
       "      <td>[{'name': 'Check distance distributions betwee...</td>\n",
       "      <td>[]</td>\n",
       "      <td>SubsaltTVAE</td>\n",
       "      <td>100</td>\n",
       "      <td>0.0002</td>\n",
       "      <td>50000</td>\n",
       "    </tr>\n",
       "    <tr>\n",
       "      <th>2</th>\n",
       "      <td>{'runtime_end': '2024-11-12T08:47:35.348316', ...</td>\n",
       "      <td>[{'name': 'agency_abbr', 'type': 'string', 'sy...</td>\n",
       "      <td>[{'name': 'Minimum row count', 'threshold': 30...</td>\n",
       "      <td>[]</td>\n",
       "      <td>SubsaltTVAE</td>\n",
       "      <td>100</td>\n",
       "      <td>0.0002</td>\n",
       "      <td>50000</td>\n",
       "    </tr>\n",
       "    <tr>\n",
       "      <th>3</th>\n",
       "      <td>{'runtime_end': '2024-11-12T08:47:48.605414', ...</td>\n",
       "      <td>[{'name': 'year', 'type': 'integer', 'synthesi...</td>\n",
       "      <td>[{'name': 'Minimum row count', 'threshold': 30...</td>\n",
       "      <td>[]</td>\n",
       "      <td>SubsaltCopulaGAN</td>\n",
       "      <td>100</td>\n",
       "      <td>0.0002</td>\n",
       "      <td>50000</td>\n",
       "    </tr>\n",
       "    <tr>\n",
       "      <th>4</th>\n",
       "      <td>{'runtime_end': '2024-11-12T08:47:57.323314', ...</td>\n",
       "      <td>[{'name': 'agency_abbr', 'type': 'string', 'sy...</td>\n",
       "      <td>[{'name': 'Minimum row count', 'threshold': 30...</td>\n",
       "      <td>[]</td>\n",
       "      <td>SubsaltCopulaGAN</td>\n",
       "      <td>100</td>\n",
       "      <td>0.0002</td>\n",
       "      <td>50000</td>\n",
       "    </tr>\n",
       "  </tbody>\n",
       "</table>\n",
       "</div>"
      ],
      "text/plain": [
       "                                            metadata  \\\n",
       "0  {'runtime_end': '2024-11-12T08:47:19.855989', ...   \n",
       "1  {'runtime_end': '2024-11-12T08:47:24.279947', ...   \n",
       "2  {'runtime_end': '2024-11-12T08:47:35.348316', ...   \n",
       "3  {'runtime_end': '2024-11-12T08:47:48.605414', ...   \n",
       "4  {'runtime_end': '2024-11-12T08:47:57.323314', ...   \n",
       "\n",
       "                                              schema  \\\n",
       "0  [{'name': 'agency_abbr', 'type': 'string', 'sy...   \n",
       "1  [{'name': 'year', 'type': 'integer', 'synthesi...   \n",
       "2  [{'name': 'agency_abbr', 'type': 'string', 'sy...   \n",
       "3  [{'name': 'year', 'type': 'integer', 'synthesi...   \n",
       "4  [{'name': 'agency_abbr', 'type': 'string', 'sy...   \n",
       "\n",
       "                                             privacy quality  \\\n",
       "0  [{'name': 'Minimum row count', 'threshold': 30...      []   \n",
       "1  [{'name': 'Check distance distributions betwee...      []   \n",
       "2  [{'name': 'Minimum row count', 'threshold': 30...      []   \n",
       "3  [{'name': 'Minimum row count', 'threshold': 30...      []   \n",
       "4  [{'name': 'Minimum row count', 'threshold': 30...      []   \n",
       "\n",
       "               type epochs  learning_rate  batch_size  \n",
       "0       SubsaltTVAE    100         0.0002       50000  \n",
       "1       SubsaltTVAE    100         0.0002       50000  \n",
       "2       SubsaltTVAE    100         0.0002       50000  \n",
       "3  SubsaltCopulaGAN    100         0.0002       50000  \n",
       "4  SubsaltCopulaGAN    100         0.0002       50000  "
      ]
     },
     "execution_count": 3,
     "metadata": {},
     "output_type": "execute_result"
    }
   ],
   "source": [
    "df.head()"
   ]
  },
  {
   "cell_type": "code",
   "execution_count": 4,
   "metadata": {},
   "outputs": [
    {
     "data": {
      "text/plain": [
       "0    2024-11-12 08:47:19.855989\n",
       "1    2024-11-12 08:47:24.279947\n",
       "2    2024-11-12 08:47:35.348316\n",
       "3    2024-11-12 08:47:48.605414\n",
       "4    2024-11-12 08:47:57.323314\n",
       "                ...            \n",
       "87   2024-11-22 16:58:30.375183\n",
       "88   2024-11-22 16:58:39.481498\n",
       "89   2024-11-22 16:58:43.765340\n",
       "90   2024-11-22 16:58:59.688683\n",
       "91   2024-11-22 16:59:20.561687\n",
       "Name: runtime_end, Length: 92, dtype: datetime64[ns]"
      ]
     },
     "execution_count": 4,
     "metadata": {},
     "output_type": "execute_result"
    }
   ],
   "source": [
    "# get the runtime_end from metadata\n",
    "df[\"runtime_end\"] = pd.to_datetime(df[\"metadata\"].apply(lambda x: x[\"runtime_end\"]))\n",
    "df[\"runtime_end\"]"
   ]
  },
  {
   "cell_type": "code",
   "execution_count": 5,
   "metadata": {},
   "outputs": [
    {
     "data": {
      "text/html": [
       "<div>\n",
       "<style scoped>\n",
       "    .dataframe tbody tr th:only-of-type {\n",
       "        vertical-align: middle;\n",
       "    }\n",
       "\n",
       "    .dataframe tbody tr th {\n",
       "        vertical-align: top;\n",
       "    }\n",
       "\n",
       "    .dataframe thead th {\n",
       "        text-align: right;\n",
       "    }\n",
       "</style>\n",
       "<table border=\"1\" class=\"dataframe\">\n",
       "  <thead>\n",
       "    <tr style=\"text-align: right;\">\n",
       "      <th></th>\n",
       "      <th>schema</th>\n",
       "      <th>privacy</th>\n",
       "      <th>quality</th>\n",
       "      <th>type</th>\n",
       "      <th>epochs</th>\n",
       "      <th>learning_rate</th>\n",
       "      <th>batch_size</th>\n",
       "      <th>runtime_end</th>\n",
       "      <th>runtime_end</th>\n",
       "      <th>row_count</th>\n",
       "      <th>product_version</th>\n",
       "      <th>table_names</th>\n",
       "    </tr>\n",
       "  </thead>\n",
       "  <tbody>\n",
       "    <tr>\n",
       "      <th>0</th>\n",
       "      <td>[{'name': 'agency_abbr', 'type': 'string', 'sy...</td>\n",
       "      <td>[{'name': 'Minimum row count', 'threshold': 30...</td>\n",
       "      <td>[]</td>\n",
       "      <td>SubsaltTVAE</td>\n",
       "      <td>100</td>\n",
       "      <td>0.0002</td>\n",
       "      <td>50000</td>\n",
       "      <td>2024-11-12 08:47:19.855989</td>\n",
       "      <td>2024-11-12T08:47:19.855989</td>\n",
       "      <td>25000</td>\n",
       "      <td>v0.26.11</td>\n",
       "      <td>applications</td>\n",
       "    </tr>\n",
       "    <tr>\n",
       "      <th>1</th>\n",
       "      <td>[{'name': 'year', 'type': 'integer', 'synthesi...</td>\n",
       "      <td>[{'name': 'Check distance distributions betwee...</td>\n",
       "      <td>[]</td>\n",
       "      <td>SubsaltTVAE</td>\n",
       "      <td>100</td>\n",
       "      <td>0.0002</td>\n",
       "      <td>50000</td>\n",
       "      <td>2024-11-12 08:47:24.279947</td>\n",
       "      <td>2024-11-12T08:47:24.279947</td>\n",
       "      <td>5000</td>\n",
       "      <td>v0.26.11</td>\n",
       "      <td>credit_card_sample</td>\n",
       "    </tr>\n",
       "    <tr>\n",
       "      <th>2</th>\n",
       "      <td>[{'name': 'agency_abbr', 'type': 'string', 'sy...</td>\n",
       "      <td>[{'name': 'Minimum row count', 'threshold': 30...</td>\n",
       "      <td>[]</td>\n",
       "      <td>SubsaltTVAE</td>\n",
       "      <td>100</td>\n",
       "      <td>0.0002</td>\n",
       "      <td>50000</td>\n",
       "      <td>2024-11-12 08:47:35.348316</td>\n",
       "      <td>2024-11-12T08:47:35.348316</td>\n",
       "      <td>25000</td>\n",
       "      <td>v0.26.11</td>\n",
       "      <td>applications</td>\n",
       "    </tr>\n",
       "    <tr>\n",
       "      <th>3</th>\n",
       "      <td>[{'name': 'year', 'type': 'integer', 'synthesi...</td>\n",
       "      <td>[{'name': 'Minimum row count', 'threshold': 30...</td>\n",
       "      <td>[]</td>\n",
       "      <td>SubsaltCopulaGAN</td>\n",
       "      <td>100</td>\n",
       "      <td>0.0002</td>\n",
       "      <td>50000</td>\n",
       "      <td>2024-11-12 08:47:48.605414</td>\n",
       "      <td>2024-11-12T08:47:48.605414</td>\n",
       "      <td>5000</td>\n",
       "      <td>v0.26.11</td>\n",
       "      <td>credit_card_sample</td>\n",
       "    </tr>\n",
       "    <tr>\n",
       "      <th>4</th>\n",
       "      <td>[{'name': 'agency_abbr', 'type': 'string', 'sy...</td>\n",
       "      <td>[{'name': 'Minimum row count', 'threshold': 30...</td>\n",
       "      <td>[]</td>\n",
       "      <td>SubsaltCopulaGAN</td>\n",
       "      <td>100</td>\n",
       "      <td>0.0002</td>\n",
       "      <td>50000</td>\n",
       "      <td>2024-11-12 08:47:57.323314</td>\n",
       "      <td>2024-11-12T08:47:57.323314</td>\n",
       "      <td>25000</td>\n",
       "      <td>v0.26.11</td>\n",
       "      <td>applications</td>\n",
       "    </tr>\n",
       "  </tbody>\n",
       "</table>\n",
       "</div>"
      ],
      "text/plain": [
       "                                              schema  \\\n",
       "0  [{'name': 'agency_abbr', 'type': 'string', 'sy...   \n",
       "1  [{'name': 'year', 'type': 'integer', 'synthesi...   \n",
       "2  [{'name': 'agency_abbr', 'type': 'string', 'sy...   \n",
       "3  [{'name': 'year', 'type': 'integer', 'synthesi...   \n",
       "4  [{'name': 'agency_abbr', 'type': 'string', 'sy...   \n",
       "\n",
       "                                             privacy quality  \\\n",
       "0  [{'name': 'Minimum row count', 'threshold': 30...      []   \n",
       "1  [{'name': 'Check distance distributions betwee...      []   \n",
       "2  [{'name': 'Minimum row count', 'threshold': 30...      []   \n",
       "3  [{'name': 'Minimum row count', 'threshold': 30...      []   \n",
       "4  [{'name': 'Minimum row count', 'threshold': 30...      []   \n",
       "\n",
       "               type epochs  learning_rate  batch_size  \\\n",
       "0       SubsaltTVAE    100         0.0002       50000   \n",
       "1       SubsaltTVAE    100         0.0002       50000   \n",
       "2       SubsaltTVAE    100         0.0002       50000   \n",
       "3  SubsaltCopulaGAN    100         0.0002       50000   \n",
       "4  SubsaltCopulaGAN    100         0.0002       50000   \n",
       "\n",
       "                 runtime_end                 runtime_end  row_count  \\\n",
       "0 2024-11-12 08:47:19.855989  2024-11-12T08:47:19.855989      25000   \n",
       "1 2024-11-12 08:47:24.279947  2024-11-12T08:47:24.279947       5000   \n",
       "2 2024-11-12 08:47:35.348316  2024-11-12T08:47:35.348316      25000   \n",
       "3 2024-11-12 08:47:48.605414  2024-11-12T08:47:48.605414       5000   \n",
       "4 2024-11-12 08:47:57.323314  2024-11-12T08:47:57.323314      25000   \n",
       "\n",
       "  product_version         table_names  \n",
       "0        v0.26.11        applications  \n",
       "1        v0.26.11  credit_card_sample  \n",
       "2        v0.26.11        applications  \n",
       "3        v0.26.11  credit_card_sample  \n",
       "4        v0.26.11        applications  "
      ]
     },
     "execution_count": 5,
     "metadata": {},
     "output_type": "execute_result"
    }
   ],
   "source": [
    "df = pd.concat([df.drop([\"metadata\"], axis=1), df[\"metadata\"].apply(pd.Series)], axis=1)\n",
    "df.head()"
   ]
  },
  {
   "cell_type": "code",
   "execution_count": 6,
   "metadata": {},
   "outputs": [
    {
     "data": {
      "text/html": [
       "<div>\n",
       "<style scoped>\n",
       "    .dataframe tbody tr th:only-of-type {\n",
       "        vertical-align: middle;\n",
       "    }\n",
       "\n",
       "    .dataframe tbody tr th {\n",
       "        vertical-align: top;\n",
       "    }\n",
       "\n",
       "    .dataframe thead th {\n",
       "        text-align: right;\n",
       "    }\n",
       "</style>\n",
       "<table border=\"1\" class=\"dataframe\">\n",
       "  <thead>\n",
       "    <tr style=\"text-align: right;\">\n",
       "      <th></th>\n",
       "      <th>name</th>\n",
       "      <th>type</th>\n",
       "      <th>synthesize_as</th>\n",
       "      <th>indirect_identifier</th>\n",
       "      <th>direct_identifier</th>\n",
       "      <th>null_ratio</th>\n",
       "      <th>unique_values</th>\n",
       "      <th>min_value</th>\n",
       "      <th>max_value</th>\n",
       "    </tr>\n",
       "  </thead>\n",
       "  <tbody>\n",
       "    <tr>\n",
       "      <th>6</th>\n",
       "      <td>synthea_test_encounters_PAYER</td>\n",
       "      <td>string</td>\n",
       "      <td>categorical</td>\n",
       "      <td>True</td>\n",
       "      <td>False</td>\n",
       "      <td>NaN</td>\n",
       "      <td>10.0</td>\n",
       "      <td>NaN</td>\n",
       "      <td>NaN</td>\n",
       "    </tr>\n",
       "    <tr>\n",
       "      <th>6</th>\n",
       "      <td>test_db_healthcare_dataset_HeartRate</td>\n",
       "      <td>integer</td>\n",
       "      <td>int</td>\n",
       "      <td>False</td>\n",
       "      <td>False</td>\n",
       "      <td>NaN</td>\n",
       "      <td>41.0</td>\n",
       "      <td>60.00</td>\n",
       "      <td>100.00</td>\n",
       "    </tr>\n",
       "    <tr>\n",
       "      <th>14</th>\n",
       "      <td>mids_indicators_MentHlth</td>\n",
       "      <td>float</td>\n",
       "      <td>float</td>\n",
       "      <td>True</td>\n",
       "      <td>False</td>\n",
       "      <td>NaN</td>\n",
       "      <td>31.0</td>\n",
       "      <td>0.00</td>\n",
       "      <td>30.00</td>\n",
       "    </tr>\n",
       "    <tr>\n",
       "      <th>11</th>\n",
       "      <td>student_performance_StudentPerformanceFactors_...</td>\n",
       "      <td>string</td>\n",
       "      <td>categorical</td>\n",
       "      <td>True</td>\n",
       "      <td>False</td>\n",
       "      <td>NaN</td>\n",
       "      <td>4.0</td>\n",
       "      <td>NaN</td>\n",
       "      <td>NaN</td>\n",
       "    </tr>\n",
       "    <tr>\n",
       "      <th>3</th>\n",
       "      <td>synthea_test_encounters_BASE_ENCOUNTER_COST</td>\n",
       "      <td>float</td>\n",
       "      <td>categorical</td>\n",
       "      <td>False</td>\n",
       "      <td>False</td>\n",
       "      <td>NaN</td>\n",
       "      <td>2.0</td>\n",
       "      <td>77.49</td>\n",
       "      <td>129.16</td>\n",
       "    </tr>\n",
       "    <tr>\n",
       "      <th>0</th>\n",
       "      <td>test_db_healthcare_dataset_A1C</td>\n",
       "      <td>float</td>\n",
       "      <td>float</td>\n",
       "      <td>True</td>\n",
       "      <td>False</td>\n",
       "      <td>NaN</td>\n",
       "      <td>101.0</td>\n",
       "      <td>4.00</td>\n",
       "      <td>14.00</td>\n",
       "    </tr>\n",
       "    <tr>\n",
       "      <th>6</th>\n",
       "      <td>credit_swipes_credit_card_sample_birth_year</td>\n",
       "      <td>integer</td>\n",
       "      <td>int</td>\n",
       "      <td>False</td>\n",
       "      <td>False</td>\n",
       "      <td>NaN</td>\n",
       "      <td>79.0</td>\n",
       "      <td>1918.00</td>\n",
       "      <td>2002.00</td>\n",
       "    </tr>\n",
       "    <tr>\n",
       "      <th>6</th>\n",
       "      <td>RACE</td>\n",
       "      <td>string</td>\n",
       "      <td>categorical</td>\n",
       "      <td>True</td>\n",
       "      <td>False</td>\n",
       "      <td>0.0</td>\n",
       "      <td>5.0</td>\n",
       "      <td>NaN</td>\n",
       "      <td>NaN</td>\n",
       "    </tr>\n",
       "    <tr>\n",
       "      <th>3</th>\n",
       "      <td>mids_indicators_CholCheck</td>\n",
       "      <td>float</td>\n",
       "      <td>categorical</td>\n",
       "      <td>False</td>\n",
       "      <td>False</td>\n",
       "      <td>NaN</td>\n",
       "      <td>2.0</td>\n",
       "      <td>0.00</td>\n",
       "      <td>1.00</td>\n",
       "    </tr>\n",
       "    <tr>\n",
       "      <th>1</th>\n",
       "      <td>loan_type_name</td>\n",
       "      <td>string</td>\n",
       "      <td>categorical</td>\n",
       "      <td>False</td>\n",
       "      <td>False</td>\n",
       "      <td>0.0</td>\n",
       "      <td>4.0</td>\n",
       "      <td>NaN</td>\n",
       "      <td>NaN</td>\n",
       "    </tr>\n",
       "  </tbody>\n",
       "</table>\n",
       "</div>"
      ],
      "text/plain": [
       "                                                 name     type synthesize_as  \\\n",
       "6                       synthea_test_encounters_PAYER   string   categorical   \n",
       "6                test_db_healthcare_dataset_HeartRate  integer           int   \n",
       "14                           mids_indicators_MentHlth    float         float   \n",
       "11  student_performance_StudentPerformanceFactors_...   string   categorical   \n",
       "3         synthea_test_encounters_BASE_ENCOUNTER_COST    float   categorical   \n",
       "0                      test_db_healthcare_dataset_A1C    float         float   \n",
       "6         credit_swipes_credit_card_sample_birth_year  integer           int   \n",
       "6                                                RACE   string   categorical   \n",
       "3                           mids_indicators_CholCheck    float   categorical   \n",
       "1                                      loan_type_name   string   categorical   \n",
       "\n",
       "    indirect_identifier  direct_identifier  null_ratio  unique_values  \\\n",
       "6                  True              False         NaN           10.0   \n",
       "6                 False              False         NaN           41.0   \n",
       "14                 True              False         NaN           31.0   \n",
       "11                 True              False         NaN            4.0   \n",
       "3                 False              False         NaN            2.0   \n",
       "0                  True              False         NaN          101.0   \n",
       "6                 False              False         NaN           79.0   \n",
       "6                  True              False         0.0            5.0   \n",
       "3                 False              False         NaN            2.0   \n",
       "1                 False              False         0.0            4.0   \n",
       "\n",
       "    min_value  max_value  \n",
       "6         NaN        NaN  \n",
       "6       60.00     100.00  \n",
       "14       0.00      30.00  \n",
       "11        NaN        NaN  \n",
       "3       77.49     129.16  \n",
       "0        4.00      14.00  \n",
       "6     1918.00    2002.00  \n",
       "6         NaN        NaN  \n",
       "3        0.00       1.00  \n",
       "1         NaN        NaN  "
      ]
     },
     "execution_count": 6,
     "metadata": {},
     "output_type": "execute_result"
    }
   ],
   "source": [
    "# concantenate all df[\"schema\"] into a single dataframe\n",
    "df_schema = pd.concat([pd.DataFrame(df[\"schema\"][i]) for i in range(len(df[\"schema\"]))])\n",
    "df_schema.sample(10)"
   ]
  },
  {
   "cell_type": "code",
   "execution_count": 7,
   "metadata": {},
   "outputs": [
    {
     "data": {
      "text/html": [
       "<div>\n",
       "<style scoped>\n",
       "    .dataframe tbody tr th:only-of-type {\n",
       "        vertical-align: middle;\n",
       "    }\n",
       "\n",
       "    .dataframe tbody tr th {\n",
       "        vertical-align: top;\n",
       "    }\n",
       "\n",
       "    .dataframe thead th {\n",
       "        text-align: right;\n",
       "    }\n",
       "</style>\n",
       "<table border=\"1\" class=\"dataframe\">\n",
       "  <thead>\n",
       "    <tr style=\"text-align: right;\">\n",
       "      <th></th>\n",
       "      <th>null_ratio</th>\n",
       "      <th>unique_values</th>\n",
       "      <th>min_value</th>\n",
       "      <th>max_value</th>\n",
       "    </tr>\n",
       "  </thead>\n",
       "  <tbody>\n",
       "    <tr>\n",
       "      <th>count</th>\n",
       "      <td>627.000000</td>\n",
       "      <td>1211.000000</td>\n",
       "      <td>587.000000</td>\n",
       "      <td>5.870000e+02</td>\n",
       "    </tr>\n",
       "    <tr>\n",
       "      <th>mean</th>\n",
       "      <td>0.008544</td>\n",
       "      <td>1699.806771</td>\n",
       "      <td>979.577768</td>\n",
       "      <td>5.943444e+04</td>\n",
       "    </tr>\n",
       "    <tr>\n",
       "      <th>std</th>\n",
       "      <td>0.047262</td>\n",
       "      <td>15440.582461</td>\n",
       "      <td>5425.963893</td>\n",
       "      <td>2.172915e+05</td>\n",
       "    </tr>\n",
       "    <tr>\n",
       "      <th>min</th>\n",
       "      <td>0.000000</td>\n",
       "      <td>2.000000</td>\n",
       "      <td>-100.000000</td>\n",
       "      <td>1.000000e+00</td>\n",
       "    </tr>\n",
       "    <tr>\n",
       "      <th>25%</th>\n",
       "      <td>0.000000</td>\n",
       "      <td>4.000000</td>\n",
       "      <td>0.990000</td>\n",
       "      <td>1.400000e+01</td>\n",
       "    </tr>\n",
       "    <tr>\n",
       "      <th>50%</th>\n",
       "      <td>0.000000</td>\n",
       "      <td>10.000000</td>\n",
       "      <td>4.000000</td>\n",
       "      <td>1.000000e+02</td>\n",
       "    </tr>\n",
       "    <tr>\n",
       "      <th>75%</th>\n",
       "      <td>0.000000</td>\n",
       "      <td>151.000000</td>\n",
       "      <td>70.000000</td>\n",
       "      <td>1.372725e+03</td>\n",
       "    </tr>\n",
       "    <tr>\n",
       "      <th>max</th>\n",
       "      <td>0.328899</td>\n",
       "      <td>218133.000000</td>\n",
       "      <td>37900.000000</td>\n",
       "      <td>1.490400e+06</td>\n",
       "    </tr>\n",
       "  </tbody>\n",
       "</table>\n",
       "</div>"
      ],
      "text/plain": [
       "       null_ratio  unique_values     min_value     max_value\n",
       "count  627.000000    1211.000000    587.000000  5.870000e+02\n",
       "mean     0.008544    1699.806771    979.577768  5.943444e+04\n",
       "std      0.047262   15440.582461   5425.963893  2.172915e+05\n",
       "min      0.000000       2.000000   -100.000000  1.000000e+00\n",
       "25%      0.000000       4.000000      0.990000  1.400000e+01\n",
       "50%      0.000000      10.000000      4.000000  1.000000e+02\n",
       "75%      0.000000     151.000000     70.000000  1.372725e+03\n",
       "max      0.328899  218133.000000  37900.000000  1.490400e+06"
      ]
     },
     "execution_count": 7,
     "metadata": {},
     "output_type": "execute_result"
    }
   ],
   "source": [
    "df_schema.describe()"
   ]
  },
  {
   "cell_type": "code",
   "execution_count": 8,
   "metadata": {},
   "outputs": [
    {
     "name": "stdout",
     "output_type": "stream",
     "text": [
      "<class 'pandas.core.frame.DataFrame'>\n",
      "Index: 1303 entries, 0 to 9\n",
      "Data columns (total 9 columns):\n",
      " #   Column               Non-Null Count  Dtype  \n",
      "---  ------               --------------  -----  \n",
      " 0   name                 1303 non-null   object \n",
      " 1   type                 1303 non-null   object \n",
      " 2   synthesize_as        1211 non-null   object \n",
      " 3   indirect_identifier  1303 non-null   bool   \n",
      " 4   direct_identifier    1303 non-null   bool   \n",
      " 5   null_ratio           627 non-null    float64\n",
      " 6   unique_values        1211 non-null   float64\n",
      " 7   min_value            587 non-null    float64\n",
      " 8   max_value            587 non-null    float64\n",
      "dtypes: bool(2), float64(4), object(3)\n",
      "memory usage: 84.0+ KB\n"
     ]
    }
   ],
   "source": [
    "df_schema.info()"
   ]
  },
  {
   "cell_type": "code",
   "execution_count": 9,
   "metadata": {},
   "outputs": [
    {
     "data": {
      "text/plain": [
       "synthesize_as\n",
       "categorical    609\n",
       "int            315\n",
       "float          137\n",
       "binary          96\n",
       "datetime        54\n",
       "Name: count, dtype: int64"
      ]
     },
     "execution_count": 9,
     "metadata": {},
     "output_type": "execute_result"
    }
   ],
   "source": [
    "df_schema[\"synthesize_as\"].value_counts()"
   ]
  },
  {
   "cell_type": "code",
   "execution_count": 10,
   "metadata": {},
   "outputs": [
    {
     "data": {
      "text/plain": [
       "name                   0.000000\n",
       "type                   0.000000\n",
       "synthesize_as          0.070606\n",
       "indirect_identifier    0.000000\n",
       "direct_identifier      0.000000\n",
       "null_ratio             0.518803\n",
       "unique_values          0.070606\n",
       "min_value              0.549501\n",
       "max_value              0.549501\n",
       "dtype: float64"
      ]
     },
     "execution_count": 10,
     "metadata": {},
     "output_type": "execute_result"
    }
   ],
   "source": [
    "# check the NaN values ratio\n",
    "df_schema.isnull().sum() / len(df_schema)"
   ]
  },
  {
   "cell_type": "code",
   "execution_count": 11,
   "metadata": {},
   "outputs": [
    {
     "data": {
      "text/html": [
       "<div>\n",
       "<style scoped>\n",
       "    .dataframe tbody tr th:only-of-type {\n",
       "        vertical-align: middle;\n",
       "    }\n",
       "\n",
       "    .dataframe tbody tr th {\n",
       "        vertical-align: top;\n",
       "    }\n",
       "\n",
       "    .dataframe thead th {\n",
       "        text-align: right;\n",
       "    }\n",
       "</style>\n",
       "<table border=\"1\" class=\"dataframe\">\n",
       "  <thead>\n",
       "    <tr style=\"text-align: right;\">\n",
       "      <th></th>\n",
       "      <th>name</th>\n",
       "      <th>threshold</th>\n",
       "      <th>score</th>\n",
       "      <th>passed</th>\n",
       "    </tr>\n",
       "  </thead>\n",
       "  <tbody>\n",
       "    <tr>\n",
       "      <th>0</th>\n",
       "      <td>Minimum row count</td>\n",
       "      <td>3000.00</td>\n",
       "      <td>25000.000000</td>\n",
       "      <td>True</td>\n",
       "    </tr>\n",
       "    <tr>\n",
       "      <th>1</th>\n",
       "      <td>Check distance distributions between real and ...</td>\n",
       "      <td>0.05</td>\n",
       "      <td>0.195684</td>\n",
       "      <td>True</td>\n",
       "    </tr>\n",
       "    <tr>\n",
       "      <th>2</th>\n",
       "      <td>Membership inference</td>\n",
       "      <td>0.55</td>\n",
       "      <td>0.467075</td>\n",
       "      <td>True</td>\n",
       "    </tr>\n",
       "    <tr>\n",
       "      <th>3</th>\n",
       "      <td>Risky row counts</td>\n",
       "      <td>237.50</td>\n",
       "      <td>1.000000</td>\n",
       "      <td>True</td>\n",
       "    </tr>\n",
       "    <tr>\n",
       "      <th>4</th>\n",
       "      <td>Row memorization</td>\n",
       "      <td>0.05</td>\n",
       "      <td>0.000000</td>\n",
       "      <td>True</td>\n",
       "    </tr>\n",
       "    <tr>\n",
       "      <th>...</th>\n",
       "      <td>...</td>\n",
       "      <td>...</td>\n",
       "      <td>...</td>\n",
       "      <td>...</td>\n",
       "    </tr>\n",
       "    <tr>\n",
       "      <th>2</th>\n",
       "      <td>Membership inference</td>\n",
       "      <td>0.55</td>\n",
       "      <td>0.503396</td>\n",
       "      <td>True</td>\n",
       "    </tr>\n",
       "    <tr>\n",
       "      <th>3</th>\n",
       "      <td>Risky row counts</td>\n",
       "      <td>123.12</td>\n",
       "      <td>0.000000</td>\n",
       "      <td>True</td>\n",
       "    </tr>\n",
       "    <tr>\n",
       "      <th>4</th>\n",
       "      <td>Row memorization</td>\n",
       "      <td>0.05</td>\n",
       "      <td>0.000000</td>\n",
       "      <td>True</td>\n",
       "    </tr>\n",
       "    <tr>\n",
       "      <th>5</th>\n",
       "      <td>No new categorical values</td>\n",
       "      <td>0.00</td>\n",
       "      <td>0.000000</td>\n",
       "      <td>True</td>\n",
       "    </tr>\n",
       "    <tr>\n",
       "      <th>6</th>\n",
       "      <td>Attribute inference</td>\n",
       "      <td>0.10</td>\n",
       "      <td>0.000081</td>\n",
       "      <td>True</td>\n",
       "    </tr>\n",
       "  </tbody>\n",
       "</table>\n",
       "<p>644 rows × 4 columns</p>\n",
       "</div>"
      ],
      "text/plain": [
       "                                                 name  threshold  \\\n",
       "0                                   Minimum row count    3000.00   \n",
       "1   Check distance distributions between real and ...       0.05   \n",
       "2                                Membership inference       0.55   \n",
       "3                                    Risky row counts     237.50   \n",
       "4                                    Row memorization       0.05   \n",
       "..                                                ...        ...   \n",
       "2                                Membership inference       0.55   \n",
       "3                                    Risky row counts     123.12   \n",
       "4                                    Row memorization       0.05   \n",
       "5                           No new categorical values       0.00   \n",
       "6                                 Attribute inference       0.10   \n",
       "\n",
       "           score  passed  \n",
       "0   25000.000000    True  \n",
       "1       0.195684    True  \n",
       "2       0.467075    True  \n",
       "3       1.000000    True  \n",
       "4       0.000000    True  \n",
       "..           ...     ...  \n",
       "2       0.503396    True  \n",
       "3       0.000000    True  \n",
       "4       0.000000    True  \n",
       "5       0.000000    True  \n",
       "6       0.000081    True  \n",
       "\n",
       "[644 rows x 4 columns]"
      ]
     },
     "execution_count": 11,
     "metadata": {},
     "output_type": "execute_result"
    }
   ],
   "source": [
    "# concantenate all df[\"privacy\"] into a single dataframe\n",
    "df_privacy = pd.concat(\n",
    "    [pd.DataFrame(df[\"privacy\"][i]) for i in range(len(df[\"privacy\"]))]\n",
    ")\n",
    "df_privacy"
   ]
  },
  {
   "cell_type": "code",
   "execution_count": 12,
   "metadata": {},
   "outputs": [
    {
     "data": {
      "text/plain": [
       "array(['Minimum row count',\n",
       "       'Check distance distributions between real and synthetic',\n",
       "       'Membership inference', 'Risky row counts', 'Row memorization',\n",
       "       'Attribute inference', 'No new categorical values'], dtype=object)"
      ]
     },
     "execution_count": 12,
     "metadata": {},
     "output_type": "execute_result"
    }
   ],
   "source": [
    "df_privacy[\"name\"].unique()"
   ]
  },
  {
   "cell_type": "code",
   "execution_count": 13,
   "metadata": {},
   "outputs": [
    {
     "data": {
      "text/plain": [
       "Series([], Name: count, dtype: int64)"
      ]
     },
     "execution_count": 13,
     "metadata": {},
     "output_type": "execute_result"
    }
   ],
   "source": [
    "df_privacy[df_privacy[\"passed\"] == False].value_counts()"
   ]
  },
  {
   "cell_type": "markdown",
   "metadata": {},
   "source": [
    "* We are now looking into three tests: `Risky row counts`, `Check distance distributions between real and synthetic`, `Row memorization`. These tests failed in the first sample dataset. "
   ]
  },
  {
   "cell_type": "code",
   "execution_count": 14,
   "metadata": {},
   "outputs": [
    {
     "data": {
      "text/plain": [
       "name              threshold  score     passed\n",
       "Row memorization  0.05       0.000000  True      89\n",
       "                             0.001221  True       1\n",
       "                             0.001347  True       1\n",
       "                             0.011958  True       1\n",
       "Name: count, dtype: int64"
      ]
     },
     "execution_count": 14,
     "metadata": {},
     "output_type": "execute_result"
    }
   ],
   "source": [
    "df_privacy[df_privacy[\"name\"] == \"Row memorization\"].value_counts()"
   ]
  },
  {
   "cell_type": "code",
   "execution_count": 15,
   "metadata": {},
   "outputs": [
    {
     "data": {
      "text/plain": [
       "(92, 12)"
      ]
     },
     "execution_count": 15,
     "metadata": {},
     "output_type": "execute_result"
    }
   ],
   "source": [
    "df.shape"
   ]
  },
  {
   "cell_type": "code",
   "execution_count": 16,
   "metadata": {},
   "outputs": [
    {
     "data": {
      "text/plain": [
       "name                                                     threshold  score     passed\n",
       "Check distance distributions between real and synthetic  0.05       0.068371  True      1\n",
       "                                                                    0.543306  True      1\n",
       "                                                                    0.589820  True      1\n",
       "                                                                    0.585604  True      1\n",
       "                                                                    0.575368  True      1\n",
       "                                                                                       ..\n",
       "                                                                    0.386504  True      1\n",
       "                                                                    0.386403  True      1\n",
       "                                                                    0.376990  True      1\n",
       "                                                                    0.376710  True      1\n",
       "                                                                    0.776618  True      1\n",
       "Name: count, Length: 92, dtype: int64"
      ]
     },
     "execution_count": 16,
     "metadata": {},
     "output_type": "execute_result"
    }
   ],
   "source": [
    "df_privacy[\n",
    "    df_privacy[\"name\"] == \"Check distance distributions between real and synthetic\"\n",
    "].value_counts()"
   ]
  },
  {
   "cell_type": "code",
   "execution_count": 17,
   "metadata": {},
   "outputs": [
    {
     "data": {
      "text/plain": [
       "name              threshold  score  passed\n",
       "Risky row counts  123.12     0.0    True      15\n",
       "                  47.50      0.0    True      12\n",
       "                  62.76      0.0    True       9\n",
       "                  237.50     0.0    True       8\n",
       "                  4001.79    0.0    True       6\n",
       "                  82.84      0.0    True       6\n",
       "                  4001.78    0.0    True       3\n",
       "                  196.23     0.0    True       3\n",
       "                  4001.62    0.0    True       3\n",
       "                  237.50     2.0    True       3\n",
       "                  850.00     0.0    True       3\n",
       "                  451.70     0.0    True       3\n",
       "                  123.12     4.0    True       2\n",
       "                  237.50     6.0    True       2\n",
       "                  142.49     0.0    True       2\n",
       "                  463.99     1.0    True       1\n",
       "                  1775.76    110.0  True       1\n",
       "                             17.0   True       1\n",
       "                  463.99     3.0    True       1\n",
       "                  237.50     30.0   True       1\n",
       "                  463.99     0.0    True       1\n",
       "                  237.50     28.0   True       1\n",
       "                             3.0    True       1\n",
       "                             1.0    True       1\n",
       "                  123.12     1.0    True       1\n",
       "                  142.49     2.0    True       1\n",
       "                  237.50     4.0    True       1\n",
       "Name: count, dtype: int64"
      ]
     },
     "execution_count": 17,
     "metadata": {},
     "output_type": "execute_result"
    }
   ],
   "source": [
    "df_privacy[df_privacy[\"name\"] == \"Risky row counts\"].value_counts()"
   ]
  },
  {
   "cell_type": "code",
   "execution_count": 18,
   "metadata": {},
   "outputs": [
    {
     "data": {
      "text/plain": [
       "threshold\n",
       "0.05    92\n",
       "Name: count, dtype: int64"
      ]
     },
     "execution_count": 18,
     "metadata": {},
     "output_type": "execute_result"
    }
   ],
   "source": [
    "df_privacy[df_privacy[\"name\"] == \"Row memorization\"][\"threshold\"].value_counts()"
   ]
  },
  {
   "cell_type": "code",
   "execution_count": 19,
   "metadata": {},
   "outputs": [
    {
     "data": {
      "text/plain": [
       "threshold\n",
       "0.05    92\n",
       "Name: count, dtype: int64"
      ]
     },
     "execution_count": 19,
     "metadata": {},
     "output_type": "execute_result"
    }
   ],
   "source": [
    "df_privacy[\n",
    "    df_privacy[\"name\"] == \"Check distance distributions between real and synthetic\"\n",
    "][\"threshold\"].value_counts()"
   ]
  },
  {
   "cell_type": "code",
   "execution_count": 20,
   "metadata": {},
   "outputs": [
    {
     "data": {
      "text/plain": [
       "threshold\n",
       "237.50     18\n",
       "123.12     18\n",
       "47.50      12\n",
       "62.76       9\n",
       "4001.79     6\n",
       "82.84       6\n",
       "4001.78     3\n",
       "4001.62     3\n",
       "463.99      3\n",
       "142.49      3\n",
       "451.70      3\n",
       "196.23      3\n",
       "850.00      3\n",
       "1775.76     2\n",
       "Name: count, dtype: int64"
      ]
     },
     "execution_count": 20,
     "metadata": {},
     "output_type": "execute_result"
    }
   ],
   "source": [
    "df_privacy[df_privacy[\"name\"] == \"Risky row counts\"][\"threshold\"].value_counts()"
   ]
  },
  {
   "cell_type": "code",
   "execution_count": 21,
   "metadata": {},
   "outputs": [],
   "source": [
    "risky_row_counts_threshold = df_privacy[df_privacy[\"name\"] == \"Risky row counts\"][\n",
    "    \"threshold\"\n",
    "].reset_index(drop=True)"
   ]
  },
  {
   "cell_type": "code",
   "execution_count": 22,
   "metadata": {},
   "outputs": [
    {
     "data": {
      "text/plain": [
       "0     237.50\n",
       "1      47.50\n",
       "2     237.50\n",
       "3      47.50\n",
       "4     237.50\n",
       "       ...  \n",
       "87    123.12\n",
       "88    123.12\n",
       "89    123.12\n",
       "90    123.12\n",
       "91    123.12\n",
       "Name: threshold, Length: 92, dtype: float64"
      ]
     },
     "execution_count": 22,
     "metadata": {},
     "output_type": "execute_result"
    }
   ],
   "source": [
    "risky_row_counts_threshold"
   ]
  },
  {
   "cell_type": "code",
   "execution_count": 23,
   "metadata": {},
   "outputs": [
    {
     "data": {
      "text/plain": [
       "0     25000\n",
       "1      5000\n",
       "2     25000\n",
       "3      5000\n",
       "4     25000\n",
       "      ...  \n",
       "87    12960\n",
       "88    12960\n",
       "89    12960\n",
       "90    12960\n",
       "91    12960\n",
       "Name: row_count, Length: 92, dtype: int64"
      ]
     },
     "execution_count": 23,
     "metadata": {},
     "output_type": "execute_result"
    }
   ],
   "source": [
    "row_count = df[\"row_count\"]\n",
    "row_count"
   ]
  },
  {
   "cell_type": "code",
   "execution_count": 24,
   "metadata": {},
   "outputs": [
    {
     "data": {
      "text/plain": [
       "0.009500    54\n",
       "0.009499     9\n",
       "0.004002     6\n",
       "0.004002     3\n",
       "0.004002     3\n",
       "0.009500     3\n",
       "0.009500     3\n",
       "0.009000     3\n",
       "0.009500     3\n",
       "0.008500     3\n",
       "0.007000     2\n",
       "Name: count, dtype: int64"
      ]
     },
     "execution_count": 24,
     "metadata": {},
     "output_type": "execute_result"
    }
   ],
   "source": [
    "(risky_row_counts_threshold / row_count).value_counts()"
   ]
  },
  {
   "cell_type": "code",
   "execution_count": 25,
   "metadata": {},
   "outputs": [
    {
     "data": {
      "text/plain": [
       "False    92\n",
       "Name: count, dtype: int64"
      ]
     },
     "execution_count": 25,
     "metadata": {},
     "output_type": "execute_result"
    }
   ],
   "source": [
    "# check if row memorization score is always smaller than threshold\n",
    "(\n",
    "    df_privacy[df_privacy[\"name\"] == \"Row memorization\"][\"score\"]\n",
    "    > df_privacy[df_privacy[\"name\"] == \"Row memorization\"][\"threshold\"]\n",
    ").value_counts()"
   ]
  },
  {
   "cell_type": "code",
   "execution_count": 26,
   "metadata": {},
   "outputs": [
    {
     "data": {
      "text/plain": [
       "True    92\n",
       "Name: count, dtype: int64"
      ]
     },
     "execution_count": 26,
     "metadata": {},
     "output_type": "execute_result"
    }
   ],
   "source": [
    "(\n",
    "    df_privacy[\n",
    "        df_privacy[\"name\"] == \"Check distance distributions between real and synthetic\"\n",
    "    ][\"score\"]\n",
    "    > df_privacy[\n",
    "        df_privacy[\"name\"] == \"Check distance distributions between real and synthetic\"\n",
    "    ][\"threshold\"]\n",
    ").value_counts()"
   ]
  },
  {
   "cell_type": "code",
   "execution_count": 27,
   "metadata": {},
   "outputs": [
    {
     "data": {
      "text/plain": [
       "False    92\n",
       "Name: count, dtype: int64"
      ]
     },
     "execution_count": 27,
     "metadata": {},
     "output_type": "execute_result"
    }
   ],
   "source": [
    "(\n",
    "    df_privacy[df_privacy[\"name\"] == \"Risky row counts\"][\"score\"]\n",
    "    > df_privacy[df_privacy[\"name\"] == \"Risky row counts\"][\"threshold\"]\n",
    ").value_counts()"
   ]
  },
  {
   "cell_type": "code",
   "execution_count": 28,
   "metadata": {},
   "outputs": [
    {
     "data": {
      "text/plain": [
       "name                  threshold  score     passed\n",
       "Membership inference  0.55       0.500000  True      5\n",
       "                                 0.350877  True      1\n",
       "                                 0.501480  True      1\n",
       "                                 0.503752  True      1\n",
       "                                 0.503673  True      1\n",
       "                                                    ..\n",
       "                                 0.485427  True      1\n",
       "                                 0.484503  True      1\n",
       "                                 0.483821  True      1\n",
       "                                 0.478304  True      1\n",
       "                                 0.549408  True      1\n",
       "Name: count, Length: 88, dtype: int64"
      ]
     },
     "execution_count": 28,
     "metadata": {},
     "output_type": "execute_result"
    }
   ],
   "source": [
    "df_privacy[df_privacy[\"name\"] == \"Membership inference\"].value_counts()"
   ]
  },
  {
   "cell_type": "code",
   "execution_count": 29,
   "metadata": {},
   "outputs": [
    {
     "data": {
      "text/plain": [
       "name                 threshold  score     passed\n",
       "Attribute inference  0.1        0.000000  True      60\n",
       "                                0.000042  True       7\n",
       "                                0.000211  True       6\n",
       "                                0.000081  True       4\n",
       "                                0.000022  True       3\n",
       "                                0.000070  True       3\n",
       "                                0.000006  True       2\n",
       "                                0.000084  True       2\n",
       "                                0.000162  True       2\n",
       "                                0.000051  True       1\n",
       "                                0.000121  True       1\n",
       "                                0.000241  True       1\n",
       "Name: count, dtype: int64"
      ]
     },
     "execution_count": 29,
     "metadata": {},
     "output_type": "execute_result"
    }
   ],
   "source": [
    "df_privacy[df_privacy[\"name\"] == \"Attribute inference\"].value_counts()"
   ]
  },
  {
   "cell_type": "code",
   "execution_count": 30,
   "metadata": {},
   "outputs": [
    {
     "data": {
      "text/plain": [
       "Series([], Name: count, dtype: int64)"
      ]
     },
     "execution_count": 30,
     "metadata": {},
     "output_type": "execute_result"
    }
   ],
   "source": [
    "df_privacy[df_privacy[\"name\"] == \"Minimum row coun\"].value_counts()"
   ]
  },
  {
   "cell_type": "code",
   "execution_count": 31,
   "metadata": {},
   "outputs": [
    {
     "data": {
      "text/plain": [
       "name                       threshold  score  passed\n",
       "No new categorical values  0.0        0.0    True      92\n",
       "Name: count, dtype: int64"
      ]
     },
     "execution_count": 31,
     "metadata": {},
     "output_type": "execute_result"
    }
   ],
   "source": [
    "df_privacy[df_privacy[\"name\"] == \"No new categorical values\"].value_counts()"
   ]
  }
 ],
 "metadata": {
  "kernelspec": {
   "display_name": "my-env",
   "language": "python",
   "name": "python3"
  },
  "language_info": {
   "codemirror_mode": {
    "name": "ipython",
    "version": 3
   },
   "file_extension": ".py",
   "mimetype": "text/x-python",
   "name": "python",
   "nbconvert_exporter": "python",
   "pygments_lexer": "ipython3",
   "version": "3.11.5"
  }
 },
 "nbformat": 4,
 "nbformat_minor": 2
}
