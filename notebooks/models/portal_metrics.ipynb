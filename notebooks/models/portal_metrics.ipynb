{
 "cells": [
  {
   "cell_type": "code",
   "execution_count": 1,
   "metadata": {},
   "outputs": [],
   "source": [
    "# load json file into pandas dataframe\n",
    "import pandas as pd\n",
    "import json\n",
    "import warnings\n",
    "from sklearn.metrics import (\n",
    "    accuracy_score,\n",
    "    confusion_matrix,\n",
    "    classification_report,\n",
    "    ConfusionMatrixDisplay,\n",
    "    auc,\n",
    "    roc_curve,\n",
    "    f1_score,\n",
    "    balanced_accuracy_score,\n",
    "    fbeta_score,\n",
    ")\n",
    "import os\n",
    "\n",
    "warnings.filterwarnings(\"ignore\")\n",
    "pd.set_option(\"mode.copy_on_write\", True)\n",
    "\n",
    "json_data = open(\"0320.json\").read()\n",
    "data = json.loads(json_data)"
   ]
  },
  {
   "cell_type": "code",
   "execution_count": 2,
   "metadata": {},
   "outputs": [
    {
     "data": {
      "text/plain": [
       "118"
      ]
     },
     "execution_count": 2,
     "metadata": {},
     "output_type": "execute_result"
    }
   ],
   "source": [
    "runs = []\n",
    "for table in data:\n",
    "    this_run = {}\n",
    "    # if privacy_prediction exists as a key in the table and it is not null\n",
    "    if \"privacy_prediction\" in table:\n",
    "        # if privacy_prediction is not none\n",
    "        # print(table[\"privacy_prediction\"])\n",
    "        if table[\"privacy_prediction\"] is not None:\n",
    "            privacy_passes = {\n",
    "                f\"PRIVACY_{i['name']}_PASS\": i[\"passed\"] for i in table[\"privacy\"]\n",
    "            }\n",
    "            checks = {\n",
    "                f\"CHECK_{i['checkType']}\": i[\"outcome\"]\n",
    "                for i in table[\"privacy_prediction\"][\"prediction\"][\"checks\"]\n",
    "            }\n",
    "            this_run.update(privacy_passes)\n",
    "            this_run.update(checks)\n",
    "            runs.append(this_run)\n",
    "\n",
    "len(runs)"
   ]
  },
  {
   "cell_type": "code",
   "execution_count": 3,
   "metadata": {},
   "outputs": [
    {
     "data": {
      "text/html": [
       "<div>\n",
       "<style scoped>\n",
       "    .dataframe tbody tr th:only-of-type {\n",
       "        vertical-align: middle;\n",
       "    }\n",
       "\n",
       "    .dataframe tbody tr th {\n",
       "        vertical-align: top;\n",
       "    }\n",
       "\n",
       "    .dataframe thead th {\n",
       "        text-align: right;\n",
       "    }\n",
       "</style>\n",
       "<table border=\"1\" class=\"dataframe\">\n",
       "  <thead>\n",
       "    <tr style=\"text-align: right;\">\n",
       "      <th></th>\n",
       "      <th>PRIVACY_Minimum row count_PASS</th>\n",
       "      <th>PRIVACY_Membership inference_PASS</th>\n",
       "      <th>PRIVACY_Check distance distributions between real and synthetic_PASS</th>\n",
       "      <th>PRIVACY_Risky row counts_PASS</th>\n",
       "      <th>PRIVACY_Row memorization_PASS</th>\n",
       "      <th>PRIVACY_No new categorical values_PASS</th>\n",
       "      <th>PRIVACY_Attribute inference_PASS</th>\n",
       "      <th>CHECK_RiskyRow</th>\n",
       "      <th>CHECK_RowMemorization</th>\n",
       "    </tr>\n",
       "  </thead>\n",
       "  <tbody>\n",
       "    <tr>\n",
       "      <th>0</th>\n",
       "      <td>True</td>\n",
       "      <td>True</td>\n",
       "      <td>True</td>\n",
       "      <td>True</td>\n",
       "      <td>True</td>\n",
       "      <td>True</td>\n",
       "      <td>True</td>\n",
       "      <td>LikelyFail</td>\n",
       "      <td>LikelyPass</td>\n",
       "    </tr>\n",
       "    <tr>\n",
       "      <th>1</th>\n",
       "      <td>True</td>\n",
       "      <td>True</td>\n",
       "      <td>True</td>\n",
       "      <td>True</td>\n",
       "      <td>True</td>\n",
       "      <td>True</td>\n",
       "      <td>False</td>\n",
       "      <td>LikelyFail</td>\n",
       "      <td>LikelyPass</td>\n",
       "    </tr>\n",
       "    <tr>\n",
       "      <th>2</th>\n",
       "      <td>True</td>\n",
       "      <td>True</td>\n",
       "      <td>True</td>\n",
       "      <td>True</td>\n",
       "      <td>True</td>\n",
       "      <td>True</td>\n",
       "      <td>False</td>\n",
       "      <td>LikelyFail</td>\n",
       "      <td>LikelyPass</td>\n",
       "    </tr>\n",
       "    <tr>\n",
       "      <th>3</th>\n",
       "      <td>True</td>\n",
       "      <td>True</td>\n",
       "      <td>True</td>\n",
       "      <td>False</td>\n",
       "      <td>True</td>\n",
       "      <td>True</td>\n",
       "      <td>True</td>\n",
       "      <td>LikelyFail</td>\n",
       "      <td>LikelyPass</td>\n",
       "    </tr>\n",
       "    <tr>\n",
       "      <th>4</th>\n",
       "      <td>True</td>\n",
       "      <td>True</td>\n",
       "      <td>True</td>\n",
       "      <td>False</td>\n",
       "      <td>True</td>\n",
       "      <td>True</td>\n",
       "      <td>True</td>\n",
       "      <td>LikelyFail</td>\n",
       "      <td>LikelyPass</td>\n",
       "    </tr>\n",
       "  </tbody>\n",
       "</table>\n",
       "</div>"
      ],
      "text/plain": [
       "   PRIVACY_Minimum row count_PASS  PRIVACY_Membership inference_PASS  \\\n",
       "0                            True                               True   \n",
       "1                            True                               True   \n",
       "2                            True                               True   \n",
       "3                            True                               True   \n",
       "4                            True                               True   \n",
       "\n",
       "   PRIVACY_Check distance distributions between real and synthetic_PASS  \\\n",
       "0                                               True                      \n",
       "1                                               True                      \n",
       "2                                               True                      \n",
       "3                                               True                      \n",
       "4                                               True                      \n",
       "\n",
       "   PRIVACY_Risky row counts_PASS  PRIVACY_Row memorization_PASS  \\\n",
       "0                           True                           True   \n",
       "1                           True                           True   \n",
       "2                           True                           True   \n",
       "3                          False                           True   \n",
       "4                          False                           True   \n",
       "\n",
       "   PRIVACY_No new categorical values_PASS  PRIVACY_Attribute inference_PASS  \\\n",
       "0                                    True                              True   \n",
       "1                                    True                             False   \n",
       "2                                    True                             False   \n",
       "3                                    True                              True   \n",
       "4                                    True                              True   \n",
       "\n",
       "  CHECK_RiskyRow CHECK_RowMemorization  \n",
       "0     LikelyFail            LikelyPass  \n",
       "1     LikelyFail            LikelyPass  \n",
       "2     LikelyFail            LikelyPass  \n",
       "3     LikelyFail            LikelyPass  \n",
       "4     LikelyFail            LikelyPass  "
      ]
     },
     "execution_count": 3,
     "metadata": {},
     "output_type": "execute_result"
    }
   ],
   "source": [
    "df = pd.DataFrame(runs)\n",
    "df.head()"
   ]
  },
  {
   "cell_type": "code",
   "execution_count": 4,
   "metadata": {},
   "outputs": [
    {
     "data": {
      "text/html": [
       "<div>\n",
       "<style scoped>\n",
       "    .dataframe tbody tr th:only-of-type {\n",
       "        vertical-align: middle;\n",
       "    }\n",
       "\n",
       "    .dataframe tbody tr th {\n",
       "        vertical-align: top;\n",
       "    }\n",
       "\n",
       "    .dataframe thead th {\n",
       "        text-align: right;\n",
       "    }\n",
       "</style>\n",
       "<table border=\"1\" class=\"dataframe\">\n",
       "  <thead>\n",
       "    <tr style=\"text-align: right;\">\n",
       "      <th></th>\n",
       "      <th>PRIVACY_Minimum row count_PASS</th>\n",
       "      <th>PRIVACY_Membership inference_PASS</th>\n",
       "      <th>PRIVACY_Check distance distributions between real and synthetic_PASS</th>\n",
       "      <th>PRIVACY_Risky row counts_PASS</th>\n",
       "      <th>PRIVACY_Row memorization_PASS</th>\n",
       "      <th>PRIVACY_No new categorical values_PASS</th>\n",
       "      <th>PRIVACY_Attribute inference_PASS</th>\n",
       "      <th>CHECK_RiskyRow</th>\n",
       "      <th>CHECK_RowMemorization</th>\n",
       "    </tr>\n",
       "  </thead>\n",
       "  <tbody>\n",
       "    <tr>\n",
       "      <th>0</th>\n",
       "      <td>True</td>\n",
       "      <td>True</td>\n",
       "      <td>True</td>\n",
       "      <td>True</td>\n",
       "      <td>True</td>\n",
       "      <td>True</td>\n",
       "      <td>True</td>\n",
       "      <td>False</td>\n",
       "      <td>True</td>\n",
       "    </tr>\n",
       "    <tr>\n",
       "      <th>1</th>\n",
       "      <td>True</td>\n",
       "      <td>True</td>\n",
       "      <td>True</td>\n",
       "      <td>True</td>\n",
       "      <td>True</td>\n",
       "      <td>True</td>\n",
       "      <td>False</td>\n",
       "      <td>False</td>\n",
       "      <td>True</td>\n",
       "    </tr>\n",
       "    <tr>\n",
       "      <th>2</th>\n",
       "      <td>True</td>\n",
       "      <td>True</td>\n",
       "      <td>True</td>\n",
       "      <td>True</td>\n",
       "      <td>True</td>\n",
       "      <td>True</td>\n",
       "      <td>False</td>\n",
       "      <td>False</td>\n",
       "      <td>True</td>\n",
       "    </tr>\n",
       "    <tr>\n",
       "      <th>3</th>\n",
       "      <td>True</td>\n",
       "      <td>True</td>\n",
       "      <td>True</td>\n",
       "      <td>False</td>\n",
       "      <td>True</td>\n",
       "      <td>True</td>\n",
       "      <td>True</td>\n",
       "      <td>False</td>\n",
       "      <td>True</td>\n",
       "    </tr>\n",
       "    <tr>\n",
       "      <th>4</th>\n",
       "      <td>True</td>\n",
       "      <td>True</td>\n",
       "      <td>True</td>\n",
       "      <td>False</td>\n",
       "      <td>True</td>\n",
       "      <td>True</td>\n",
       "      <td>True</td>\n",
       "      <td>False</td>\n",
       "      <td>True</td>\n",
       "    </tr>\n",
       "  </tbody>\n",
       "</table>\n",
       "</div>"
      ],
      "text/plain": [
       "   PRIVACY_Minimum row count_PASS  PRIVACY_Membership inference_PASS  \\\n",
       "0                            True                               True   \n",
       "1                            True                               True   \n",
       "2                            True                               True   \n",
       "3                            True                               True   \n",
       "4                            True                               True   \n",
       "\n",
       "   PRIVACY_Check distance distributions between real and synthetic_PASS  \\\n",
       "0                                               True                      \n",
       "1                                               True                      \n",
       "2                                               True                      \n",
       "3                                               True                      \n",
       "4                                               True                      \n",
       "\n",
       "   PRIVACY_Risky row counts_PASS  PRIVACY_Row memorization_PASS  \\\n",
       "0                           True                           True   \n",
       "1                           True                           True   \n",
       "2                           True                           True   \n",
       "3                          False                           True   \n",
       "4                          False                           True   \n",
       "\n",
       "   PRIVACY_No new categorical values_PASS  PRIVACY_Attribute inference_PASS  \\\n",
       "0                                    True                              True   \n",
       "1                                    True                             False   \n",
       "2                                    True                             False   \n",
       "3                                    True                              True   \n",
       "4                                    True                              True   \n",
       "\n",
       "   CHECK_RiskyRow  CHECK_RowMemorization  \n",
       "0           False                   True  \n",
       "1           False                   True  \n",
       "2           False                   True  \n",
       "3           False                   True  \n",
       "4           False                   True  "
      ]
     },
     "execution_count": 4,
     "metadata": {},
     "output_type": "execute_result"
    }
   ],
   "source": [
    "# replace the LikelyFail with False and LikelyPass with True\n",
    "df.replace(\"LikelyFail\", False, inplace=True)\n",
    "df.replace(\"LikelyPass\", True, inplace=True)\n",
    "df.replace(\"MaybePass\", True, inplace=True)\n",
    "df.head()"
   ]
  },
  {
   "cell_type": "code",
   "execution_count": 5,
   "metadata": {},
   "outputs": [
    {
     "data": {
      "text/plain": [
       "CHECK_RiskyRow\n",
       "True     91\n",
       "False    27\n",
       "Name: count, dtype: int64"
      ]
     },
     "execution_count": 5,
     "metadata": {},
     "output_type": "execute_result"
    }
   ],
   "source": [
    "df[\"CHECK_RiskyRow\"].value_counts()"
   ]
  },
  {
   "cell_type": "code",
   "execution_count": 6,
   "metadata": {},
   "outputs": [
    {
     "data": {
      "text/plain": [
       "CHECK_RowMemorization\n",
       "True     64\n",
       "False    54\n",
       "Name: count, dtype: int64"
      ]
     },
     "execution_count": 6,
     "metadata": {},
     "output_type": "execute_result"
    }
   ],
   "source": [
    "df[\"CHECK_RowMemorization\"].value_counts()"
   ]
  },
  {
   "cell_type": "code",
   "execution_count": 7,
   "metadata": {},
   "outputs": [
    {
     "data": {
      "image/png": "[encoded data removed]",
      "text/plain": [
       "<Figure size 400x300 with 2 Axes>"
      ]
     },
     "metadata": {},
     "output_type": "display_data"
    }
   ],
   "source": [
    "# print the confusion matrix, prediction is the CHECK_RiskyRow,\n",
    "import matplotlib.pyplot as plt\n",
    "\n",
    "cm = confusion_matrix(df[\"PRIVACY_Risky row counts_PASS\"], df[\"CHECK_RiskyRow\"])\n",
    "disp = ConfusionMatrixDisplay(confusion_matrix=cm, display_labels=[\"False\", \"True\"])\n",
    "fig, ax = plt.subplots(figsize=(4, 3))\n",
    "disp.plot(ax=ax)\n",
    "plt.title(f\"Test Confusion Matrix for Risky row counts\")\n",
    "plt.show()"
   ]
  },
  {
   "cell_type": "code",
   "execution_count": 8,
   "metadata": {},
   "outputs": [
    {
     "data": {
      "image/png": "[encoded data removed]",
      "text/plain": [
       "<Figure size 400x300 with 2 Axes>"
      ]
     },
     "metadata": {},
     "output_type": "display_data"
    }
   ],
   "source": [
    "cm = confusion_matrix(df[\"PRIVACY_Row memorization_PASS\"], df[\"CHECK_RowMemorization\"])\n",
    "disp = ConfusionMatrixDisplay(confusion_matrix=cm, display_labels=[\"False\", \"True\"])\n",
    "fig, ax = plt.subplots(figsize=(4, 3))\n",
    "disp.plot(ax=ax)\n",
    "plt.title(f\"Test Confusion Matrix for Row Memorization\")\n",
    "plt.show()"
   ]
  },
  {
   "cell_type": "code",
   "execution_count": 9,
   "metadata": {},
   "outputs": [],
   "source": [
    "# create a function to evaluate the model and save the result to a csv file\n",
    "def evaluate_model(y_test, y_pred, target_name, model_name, feature_name):\n",
    "    accuracy = accuracy_score(y_test, y_pred)\n",
    "    balanced_accuracy = balanced_accuracy_score(y_test, y_pred)\n",
    "    f05_score = fbeta_score(y_test, y_pred, beta=0.5)\n",
    "    f2_score = fbeta_score(y_test, y_pred, beta=2)\n",
    "    f1 = f1_score(y_test, y_pred)\n",
    "    specificity = confusion_matrix(y_test, y_pred)[0, 0] / sum(y_test == 0)\n",
    "    sensitivity = confusion_matrix(y_test, y_pred)[1, 1] / sum(y_test == 1)\n",
    "\n",
    "    # save to csv if the file already exists, delete the file otherwise and create a new one\n",
    "    if os.path.exists(f\"result/perf_{target_name}_{model_name}_{feature_name}.csv\"):\n",
    "        # delete the file\n",
    "        os.remove(f\"result/perf_{target_name}_{model_name}_{feature_name}.csv\")\n",
    "    with open(f\"result/perf_{target_name}_{model_name}_{feature_name}.csv\", \"w\") as f:\n",
    "        f.write(\n",
    "            \"target_name,model_name,feature_name,accuracy,balanced_accuracy,f05_score,f2_score,f1,specificity,sensitivity\\n\"\n",
    "        )\n",
    "        f.write(\n",
    "            f\"{target_name},{model_name},{feature_name},{accuracy},{balanced_accuracy},{f05_score},{f1},{f2_score},{specificity},{sensitivity}\\n\"\n",
    "        )"
   ]
  },
  {
   "cell_type": "code",
   "execution_count": 10,
   "metadata": {},
   "outputs": [],
   "source": [
    "evaluate_model(\n",
    "    df[\"PRIVACY_Risky row counts_PASS\"],\n",
    "    df[\"CHECK_RiskyRow\"],\n",
    "    \"PRIVACY_Risky row counts\",\n",
    "    \"base\",\n",
    "    \"man\",\n",
    ")\n",
    "evaluate_model(\n",
    "    df[\"PRIVACY_Row memorization_PASS\"],\n",
    "    df[\"CHECK_RowMemorization\"],\n",
    "    \"PRIVACY_Row memorization\",\n",
    "    \"base\",\n",
    "    \"man\",\n",
    ")"
   ]
  }
 ],
 "metadata": {
  "kernelspec": {
   "display_name": "my-env",
   "language": "python",
   "name": "python3"
  },
  "language_info": {
   "codemirror_mode": {
    "name": "ipython",
    "version": 3
   },
   "file_extension": ".py",
   "mimetype": "text/x-python",
   "name": "python",
   "nbconvert_exporter": "python",
   "pygments_lexer": "ipython3",
   "version": "3.11.5"
  }
 },
 "nbformat": 4,
 "nbformat_minor": 2
}
