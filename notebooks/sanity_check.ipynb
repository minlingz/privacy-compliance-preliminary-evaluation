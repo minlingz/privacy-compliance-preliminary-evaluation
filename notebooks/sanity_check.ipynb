{
 "cells": [
  {
   "cell_type": "markdown",
   "metadata": {},
   "source": [
    "* Overview: Purpose of this notebook is to analyze the sample data downloaded from the Subsalt portal and to understand the data structure and the features. There are some findings being shared in this notebook."
   ]
  },
  {
   "cell_type": "code",
   "execution_count": 1,
   "metadata": {},
   "outputs": [
    {
     "data": {
      "text/html": [
       "<div>\n",
       "<style scoped>\n",
       "    .dataframe tbody tr th:only-of-type {\n",
       "        vertical-align: middle;\n",
       "    }\n",
       "\n",
       "    .dataframe tbody tr th {\n",
       "        vertical-align: top;\n",
       "    }\n",
       "\n",
       "    .dataframe thead th {\n",
       "        text-align: right;\n",
       "    }\n",
       "</style>\n",
       "<table border=\"1\" class=\"dataframe\">\n",
       "  <thead>\n",
       "    <tr style=\"text-align: right;\">\n",
       "      <th></th>\n",
       "      <th>metadata</th>\n",
       "      <th>schema</th>\n",
       "      <th>genconfig</th>\n",
       "      <th>privacy</th>\n",
       "      <th>quality</th>\n",
       "    </tr>\n",
       "  </thead>\n",
       "  <tbody>\n",
       "    <tr>\n",
       "      <th>0</th>\n",
       "      <td>{'runtime_end': '2024-11-12T08:47:19.855989', ...</td>\n",
       "      <td>[{'name': 'agency_abbr', 'type': 'string', 'sy...</td>\n",
       "      <td>{'type': 'SubsaltTVAE', 'epochs': '100', 'lear...</td>\n",
       "      <td>[{'name': 'Minimum row count', 'threshold': 30...</td>\n",
       "      <td>[]</td>\n",
       "    </tr>\n",
       "    <tr>\n",
       "      <th>1</th>\n",
       "      <td>{'runtime_end': '2024-11-12T08:47:24.279947', ...</td>\n",
       "      <td>[{'name': 'year', 'type': 'integer', 'synthesi...</td>\n",
       "      <td>{'type': 'SubsaltTVAE', 'epochs': '100', 'lear...</td>\n",
       "      <td>[{'name': 'Check distance distributions betwee...</td>\n",
       "      <td>[]</td>\n",
       "    </tr>\n",
       "    <tr>\n",
       "      <th>2</th>\n",
       "      <td>{'runtime_end': '2024-11-12T08:47:35.348316', ...</td>\n",
       "      <td>[{'name': 'agency_abbr', 'type': 'string', 'sy...</td>\n",
       "      <td>{'type': 'SubsaltTVAE', 'epochs': '100', 'lear...</td>\n",
       "      <td>[{'name': 'Minimum row count', 'threshold': 30...</td>\n",
       "      <td>[]</td>\n",
       "    </tr>\n",
       "    <tr>\n",
       "      <th>3</th>\n",
       "      <td>{'runtime_end': '2024-11-12T08:47:48.605414', ...</td>\n",
       "      <td>[{'name': 'year', 'type': 'integer', 'synthesi...</td>\n",
       "      <td>{'type': 'SubsaltCopulaGAN', 'epochs': '100', ...</td>\n",
       "      <td>[{'name': 'Minimum row count', 'threshold': 30...</td>\n",
       "      <td>[]</td>\n",
       "    </tr>\n",
       "    <tr>\n",
       "      <th>4</th>\n",
       "      <td>{'runtime_end': '2024-11-12T08:47:57.323314', ...</td>\n",
       "      <td>[{'name': 'agency_abbr', 'type': 'string', 'sy...</td>\n",
       "      <td>{'type': 'SubsaltCopulaGAN', 'epochs': '100', ...</td>\n",
       "      <td>[{'name': 'Minimum row count', 'threshold': 30...</td>\n",
       "      <td>[]</td>\n",
       "    </tr>\n",
       "  </tbody>\n",
       "</table>\n",
       "</div>"
      ],
      "text/plain": [
       "                                            metadata  \\\n",
       "0  {'runtime_end': '2024-11-12T08:47:19.855989', ...   \n",
       "1  {'runtime_end': '2024-11-12T08:47:24.279947', ...   \n",
       "2  {'runtime_end': '2024-11-12T08:47:35.348316', ...   \n",
       "3  {'runtime_end': '2024-11-12T08:47:48.605414', ...   \n",
       "4  {'runtime_end': '2024-11-12T08:47:57.323314', ...   \n",
       "\n",
       "                                              schema  \\\n",
       "0  [{'name': 'agency_abbr', 'type': 'string', 'sy...   \n",
       "1  [{'name': 'year', 'type': 'integer', 'synthesi...   \n",
       "2  [{'name': 'agency_abbr', 'type': 'string', 'sy...   \n",
       "3  [{'name': 'year', 'type': 'integer', 'synthesi...   \n",
       "4  [{'name': 'agency_abbr', 'type': 'string', 'sy...   \n",
       "\n",
       "                                           genconfig  \\\n",
       "0  {'type': 'SubsaltTVAE', 'epochs': '100', 'lear...   \n",
       "1  {'type': 'SubsaltTVAE', 'epochs': '100', 'lear...   \n",
       "2  {'type': 'SubsaltTVAE', 'epochs': '100', 'lear...   \n",
       "3  {'type': 'SubsaltCopulaGAN', 'epochs': '100', ...   \n",
       "4  {'type': 'SubsaltCopulaGAN', 'epochs': '100', ...   \n",
       "\n",
       "                                             privacy quality  \n",
       "0  [{'name': 'Minimum row count', 'threshold': 30...      []  \n",
       "1  [{'name': 'Check distance distributions betwee...      []  \n",
       "2  [{'name': 'Minimum row count', 'threshold': 30...      []  \n",
       "3  [{'name': 'Minimum row count', 'threshold': 30...      []  \n",
       "4  [{'name': 'Minimum row count', 'threshold': 30...      []  "
      ]
     },
     "execution_count": 1,
     "metadata": {},
     "output_type": "execute_result"
    }
   ],
   "source": [
    "# load json file into pandas dataframe\n",
    "import pandas as pd\n",
    "import json\n",
    "import warnings\n",
    "\n",
    "warnings.filterwarnings(\"ignore\")\n",
    "\n",
    "json_data = open(\"../data/sample_data_1113.json\").read()\n",
    "data = json.loads(json_data)\n",
    "df = pd.DataFrame(data)\n",
    "df.head()"
   ]
  },
  {
   "cell_type": "markdown",
   "metadata": {},
   "source": [
    "- ✅  We are able to see four categories of data in the given dataset: `metadata`, `schema`, `genconfig`, `privacy`. And the `quality` being empty is expected according to our focus."
   ]
  },
  {
   "cell_type": "code",
   "execution_count": 2,
   "metadata": {},
   "outputs": [
    {
     "data": {
      "text/plain": [
       "(62, 8)"
      ]
     },
     "execution_count": 2,
     "metadata": {},
     "output_type": "execute_result"
    }
   ],
   "source": [
    "# expand column of dictionaries into separate columns\n",
    "df = pd.concat(\n",
    "    [df.drop([\"genconfig\"], axis=1), df[\"genconfig\"].apply(pd.Series)], axis=1\n",
    ")\n",
    "df.shape"
   ]
  },
  {
   "cell_type": "code",
   "execution_count": 3,
   "metadata": {},
   "outputs": [
    {
     "data": {
      "text/html": [
       "<div>\n",
       "<style scoped>\n",
       "    .dataframe tbody tr th:only-of-type {\n",
       "        vertical-align: middle;\n",
       "    }\n",
       "\n",
       "    .dataframe tbody tr th {\n",
       "        vertical-align: top;\n",
       "    }\n",
       "\n",
       "    .dataframe thead th {\n",
       "        text-align: right;\n",
       "    }\n",
       "</style>\n",
       "<table border=\"1\" class=\"dataframe\">\n",
       "  <thead>\n",
       "    <tr style=\"text-align: right;\">\n",
       "      <th></th>\n",
       "      <th>metadata</th>\n",
       "      <th>schema</th>\n",
       "      <th>privacy</th>\n",
       "      <th>quality</th>\n",
       "      <th>type</th>\n",
       "      <th>epochs</th>\n",
       "      <th>learning_rate</th>\n",
       "      <th>batch_size</th>\n",
       "    </tr>\n",
       "  </thead>\n",
       "  <tbody>\n",
       "    <tr>\n",
       "      <th>0</th>\n",
       "      <td>{'runtime_end': '2024-11-12T08:47:19.855989', ...</td>\n",
       "      <td>[{'name': 'agency_abbr', 'type': 'string', 'sy...</td>\n",
       "      <td>[{'name': 'Minimum row count', 'threshold': 30...</td>\n",
       "      <td>[]</td>\n",
       "      <td>SubsaltTVAE</td>\n",
       "      <td>100</td>\n",
       "      <td>0.0002</td>\n",
       "      <td>50000</td>\n",
       "    </tr>\n",
       "    <tr>\n",
       "      <th>1</th>\n",
       "      <td>{'runtime_end': '2024-11-12T08:47:24.279947', ...</td>\n",
       "      <td>[{'name': 'year', 'type': 'integer', 'synthesi...</td>\n",
       "      <td>[{'name': 'Check distance distributions betwee...</td>\n",
       "      <td>[]</td>\n",
       "      <td>SubsaltTVAE</td>\n",
       "      <td>100</td>\n",
       "      <td>0.0002</td>\n",
       "      <td>50000</td>\n",
       "    </tr>\n",
       "    <tr>\n",
       "      <th>2</th>\n",
       "      <td>{'runtime_end': '2024-11-12T08:47:35.348316', ...</td>\n",
       "      <td>[{'name': 'agency_abbr', 'type': 'string', 'sy...</td>\n",
       "      <td>[{'name': 'Minimum row count', 'threshold': 30...</td>\n",
       "      <td>[]</td>\n",
       "      <td>SubsaltTVAE</td>\n",
       "      <td>100</td>\n",
       "      <td>0.0002</td>\n",
       "      <td>50000</td>\n",
       "    </tr>\n",
       "    <tr>\n",
       "      <th>3</th>\n",
       "      <td>{'runtime_end': '2024-11-12T08:47:48.605414', ...</td>\n",
       "      <td>[{'name': 'year', 'type': 'integer', 'synthesi...</td>\n",
       "      <td>[{'name': 'Minimum row count', 'threshold': 30...</td>\n",
       "      <td>[]</td>\n",
       "      <td>SubsaltCopulaGAN</td>\n",
       "      <td>100</td>\n",
       "      <td>0.0002</td>\n",
       "      <td>50000</td>\n",
       "    </tr>\n",
       "    <tr>\n",
       "      <th>4</th>\n",
       "      <td>{'runtime_end': '2024-11-12T08:47:57.323314', ...</td>\n",
       "      <td>[{'name': 'agency_abbr', 'type': 'string', 'sy...</td>\n",
       "      <td>[{'name': 'Minimum row count', 'threshold': 30...</td>\n",
       "      <td>[]</td>\n",
       "      <td>SubsaltCopulaGAN</td>\n",
       "      <td>100</td>\n",
       "      <td>0.0002</td>\n",
       "      <td>50000</td>\n",
       "    </tr>\n",
       "  </tbody>\n",
       "</table>\n",
       "</div>"
      ],
      "text/plain": [
       "                                            metadata  \\\n",
       "0  {'runtime_end': '2024-11-12T08:47:19.855989', ...   \n",
       "1  {'runtime_end': '2024-11-12T08:47:24.279947', ...   \n",
       "2  {'runtime_end': '2024-11-12T08:47:35.348316', ...   \n",
       "3  {'runtime_end': '2024-11-12T08:47:48.605414', ...   \n",
       "4  {'runtime_end': '2024-11-12T08:47:57.323314', ...   \n",
       "\n",
       "                                              schema  \\\n",
       "0  [{'name': 'agency_abbr', 'type': 'string', 'sy...   \n",
       "1  [{'name': 'year', 'type': 'integer', 'synthesi...   \n",
       "2  [{'name': 'agency_abbr', 'type': 'string', 'sy...   \n",
       "3  [{'name': 'year', 'type': 'integer', 'synthesi...   \n",
       "4  [{'name': 'agency_abbr', 'type': 'string', 'sy...   \n",
       "\n",
       "                                             privacy quality  \\\n",
       "0  [{'name': 'Minimum row count', 'threshold': 30...      []   \n",
       "1  [{'name': 'Check distance distributions betwee...      []   \n",
       "2  [{'name': 'Minimum row count', 'threshold': 30...      []   \n",
       "3  [{'name': 'Minimum row count', 'threshold': 30...      []   \n",
       "4  [{'name': 'Minimum row count', 'threshold': 30...      []   \n",
       "\n",
       "               type epochs  learning_rate  batch_size  \n",
       "0       SubsaltTVAE    100         0.0002       50000  \n",
       "1       SubsaltTVAE    100         0.0002       50000  \n",
       "2       SubsaltTVAE    100         0.0002       50000  \n",
       "3  SubsaltCopulaGAN    100         0.0002       50000  \n",
       "4  SubsaltCopulaGAN    100         0.0002       50000  "
      ]
     },
     "execution_count": 3,
     "metadata": {},
     "output_type": "execute_result"
    }
   ],
   "source": [
    "df.head()"
   ]
  },
  {
   "cell_type": "markdown",
   "metadata": {},
   "source": [
    "- ✅  We can see `type`, `epoches`, `learning_rate`, `batch_size` in the `genconfig` data. These are the hyperparameters used in the training of the model."
   ]
  },
  {
   "cell_type": "code",
   "execution_count": 4,
   "metadata": {},
   "outputs": [
    {
     "data": {
      "text/html": [
       "<div>\n",
       "<style scoped>\n",
       "    .dataframe tbody tr th:only-of-type {\n",
       "        vertical-align: middle;\n",
       "    }\n",
       "\n",
       "    .dataframe tbody tr th {\n",
       "        vertical-align: top;\n",
       "    }\n",
       "\n",
       "    .dataframe thead th {\n",
       "        text-align: right;\n",
       "    }\n",
       "</style>\n",
       "<table border=\"1\" class=\"dataframe\">\n",
       "  <thead>\n",
       "    <tr style=\"text-align: right;\">\n",
       "      <th></th>\n",
       "      <th>schema</th>\n",
       "      <th>privacy</th>\n",
       "      <th>quality</th>\n",
       "      <th>type</th>\n",
       "      <th>epochs</th>\n",
       "      <th>learning_rate</th>\n",
       "      <th>batch_size</th>\n",
       "      <th>runtime_end</th>\n",
       "      <th>row_count</th>\n",
       "      <th>product_version</th>\n",
       "      <th>table_names</th>\n",
       "    </tr>\n",
       "  </thead>\n",
       "  <tbody>\n",
       "    <tr>\n",
       "      <th>0</th>\n",
       "      <td>[{'name': 'agency_abbr', 'type': 'string', 'sy...</td>\n",
       "      <td>[{'name': 'Minimum row count', 'threshold': 30...</td>\n",
       "      <td>[]</td>\n",
       "      <td>SubsaltTVAE</td>\n",
       "      <td>100</td>\n",
       "      <td>0.0002</td>\n",
       "      <td>50000</td>\n",
       "      <td>2024-11-12T08:47:19.855989</td>\n",
       "      <td>25000</td>\n",
       "      <td>v0.26.11</td>\n",
       "      <td>applications</td>\n",
       "    </tr>\n",
       "    <tr>\n",
       "      <th>1</th>\n",
       "      <td>[{'name': 'year', 'type': 'integer', 'synthesi...</td>\n",
       "      <td>[{'name': 'Check distance distributions betwee...</td>\n",
       "      <td>[]</td>\n",
       "      <td>SubsaltTVAE</td>\n",
       "      <td>100</td>\n",
       "      <td>0.0002</td>\n",
       "      <td>50000</td>\n",
       "      <td>2024-11-12T08:47:24.279947</td>\n",
       "      <td>5000</td>\n",
       "      <td>v0.26.11</td>\n",
       "      <td>credit_card_sample</td>\n",
       "    </tr>\n",
       "    <tr>\n",
       "      <th>2</th>\n",
       "      <td>[{'name': 'agency_abbr', 'type': 'string', 'sy...</td>\n",
       "      <td>[{'name': 'Minimum row count', 'threshold': 30...</td>\n",
       "      <td>[]</td>\n",
       "      <td>SubsaltTVAE</td>\n",
       "      <td>100</td>\n",
       "      <td>0.0002</td>\n",
       "      <td>50000</td>\n",
       "      <td>2024-11-12T08:47:35.348316</td>\n",
       "      <td>25000</td>\n",
       "      <td>v0.26.11</td>\n",
       "      <td>applications</td>\n",
       "    </tr>\n",
       "    <tr>\n",
       "      <th>3</th>\n",
       "      <td>[{'name': 'year', 'type': 'integer', 'synthesi...</td>\n",
       "      <td>[{'name': 'Minimum row count', 'threshold': 30...</td>\n",
       "      <td>[]</td>\n",
       "      <td>SubsaltCopulaGAN</td>\n",
       "      <td>100</td>\n",
       "      <td>0.0002</td>\n",
       "      <td>50000</td>\n",
       "      <td>2024-11-12T08:47:48.605414</td>\n",
       "      <td>5000</td>\n",
       "      <td>v0.26.11</td>\n",
       "      <td>credit_card_sample</td>\n",
       "    </tr>\n",
       "    <tr>\n",
       "      <th>4</th>\n",
       "      <td>[{'name': 'agency_abbr', 'type': 'string', 'sy...</td>\n",
       "      <td>[{'name': 'Minimum row count', 'threshold': 30...</td>\n",
       "      <td>[]</td>\n",
       "      <td>SubsaltCopulaGAN</td>\n",
       "      <td>100</td>\n",
       "      <td>0.0002</td>\n",
       "      <td>50000</td>\n",
       "      <td>2024-11-12T08:47:57.323314</td>\n",
       "      <td>25000</td>\n",
       "      <td>v0.26.11</td>\n",
       "      <td>applications</td>\n",
       "    </tr>\n",
       "  </tbody>\n",
       "</table>\n",
       "</div>"
      ],
      "text/plain": [
       "                                              schema  \\\n",
       "0  [{'name': 'agency_abbr', 'type': 'string', 'sy...   \n",
       "1  [{'name': 'year', 'type': 'integer', 'synthesi...   \n",
       "2  [{'name': 'agency_abbr', 'type': 'string', 'sy...   \n",
       "3  [{'name': 'year', 'type': 'integer', 'synthesi...   \n",
       "4  [{'name': 'agency_abbr', 'type': 'string', 'sy...   \n",
       "\n",
       "                                             privacy quality  \\\n",
       "0  [{'name': 'Minimum row count', 'threshold': 30...      []   \n",
       "1  [{'name': 'Check distance distributions betwee...      []   \n",
       "2  [{'name': 'Minimum row count', 'threshold': 30...      []   \n",
       "3  [{'name': 'Minimum row count', 'threshold': 30...      []   \n",
       "4  [{'name': 'Minimum row count', 'threshold': 30...      []   \n",
       "\n",
       "               type epochs  learning_rate  batch_size  \\\n",
       "0       SubsaltTVAE    100         0.0002       50000   \n",
       "1       SubsaltTVAE    100         0.0002       50000   \n",
       "2       SubsaltTVAE    100         0.0002       50000   \n",
       "3  SubsaltCopulaGAN    100         0.0002       50000   \n",
       "4  SubsaltCopulaGAN    100         0.0002       50000   \n",
       "\n",
       "                  runtime_end  row_count product_version         table_names  \n",
       "0  2024-11-12T08:47:19.855989      25000        v0.26.11        applications  \n",
       "1  2024-11-12T08:47:24.279947       5000        v0.26.11  credit_card_sample  \n",
       "2  2024-11-12T08:47:35.348316      25000        v0.26.11        applications  \n",
       "3  2024-11-12T08:47:48.605414       5000        v0.26.11  credit_card_sample  \n",
       "4  2024-11-12T08:47:57.323314      25000        v0.26.11        applications  "
      ]
     },
     "execution_count": 4,
     "metadata": {},
     "output_type": "execute_result"
    }
   ],
   "source": [
    "df = pd.concat([df.drop([\"metadata\"], axis=1), df[\"metadata\"].apply(pd.Series)], axis=1)\n",
    "df.head()"
   ]
  },
  {
   "cell_type": "markdown",
   "metadata": {},
   "source": [
    "- ✅  We can see `runtime_end`, `row_count`, `product_version` and `table_names` in the `metadata` data. These are the metadata information of the dataset."
   ]
  },
  {
   "cell_type": "code",
   "execution_count": 5,
   "metadata": {},
   "outputs": [
    {
     "data": {
      "text/html": [
       "<div>\n",
       "<style scoped>\n",
       "    .dataframe tbody tr th:only-of-type {\n",
       "        vertical-align: middle;\n",
       "    }\n",
       "\n",
       "    .dataframe tbody tr th {\n",
       "        vertical-align: top;\n",
       "    }\n",
       "\n",
       "    .dataframe thead th {\n",
       "        text-align: right;\n",
       "    }\n",
       "</style>\n",
       "<table border=\"1\" class=\"dataframe\">\n",
       "  <thead>\n",
       "    <tr style=\"text-align: right;\">\n",
       "      <th></th>\n",
       "      <th>name</th>\n",
       "      <th>type</th>\n",
       "      <th>synthesize_as</th>\n",
       "      <th>indirect_identifier</th>\n",
       "      <th>direct_identifier</th>\n",
       "      <th>null_ratio</th>\n",
       "      <th>unique_values</th>\n",
       "      <th>min_value</th>\n",
       "      <th>max_value</th>\n",
       "    </tr>\n",
       "  </thead>\n",
       "  <tbody>\n",
       "    <tr>\n",
       "      <th>9</th>\n",
       "      <td>hud_median_family_income</td>\n",
       "      <td>float</td>\n",
       "      <td>int</td>\n",
       "      <td>True</td>\n",
       "      <td>False</td>\n",
       "      <td>0.00492</td>\n",
       "      <td>239.0</td>\n",
       "      <td>37900.0</td>\n",
       "      <td>114200.0</td>\n",
       "    </tr>\n",
       "    <tr>\n",
       "      <th>1</th>\n",
       "      <td>month</td>\n",
       "      <td>integer</td>\n",
       "      <td>int</td>\n",
       "      <td>True</td>\n",
       "      <td>False</td>\n",
       "      <td>0.00000</td>\n",
       "      <td>12.0</td>\n",
       "      <td>1.0</td>\n",
       "      <td>12.0</td>\n",
       "    </tr>\n",
       "    <tr>\n",
       "      <th>19</th>\n",
       "      <td>student_performance_StudentPerformanceFactors_...</td>\n",
       "      <td>integer</td>\n",
       "      <td>int</td>\n",
       "      <td>True</td>\n",
       "      <td>False</td>\n",
       "      <td>NaN</td>\n",
       "      <td>45.0</td>\n",
       "      <td>55.0</td>\n",
       "      <td>101.0</td>\n",
       "    </tr>\n",
       "    <tr>\n",
       "      <th>1</th>\n",
       "      <td>month</td>\n",
       "      <td>integer</td>\n",
       "      <td>int</td>\n",
       "      <td>True</td>\n",
       "      <td>False</td>\n",
       "      <td>0.00000</td>\n",
       "      <td>12.0</td>\n",
       "      <td>1.0</td>\n",
       "      <td>12.0</td>\n",
       "    </tr>\n",
       "    <tr>\n",
       "      <th>14</th>\n",
       "      <td>test_db_healthcare_dataset_Weight</td>\n",
       "      <td>float</td>\n",
       "      <td>float</td>\n",
       "      <td>False</td>\n",
       "      <td>False</td>\n",
       "      <td>NaN</td>\n",
       "      <td>751.0</td>\n",
       "      <td>45.0</td>\n",
       "      <td>120.0</td>\n",
       "    </tr>\n",
       "    <tr>\n",
       "      <th>12</th>\n",
       "      <td>test_db_healthcare_dataset_RespiratoryRate</td>\n",
       "      <td>integer</td>\n",
       "      <td>categorical</td>\n",
       "      <td>False</td>\n",
       "      <td>False</td>\n",
       "      <td>NaN</td>\n",
       "      <td>9.0</td>\n",
       "      <td>12.0</td>\n",
       "      <td>20.0</td>\n",
       "    </tr>\n",
       "    <tr>\n",
       "      <th>8</th>\n",
       "      <td>RespiratoryRate</td>\n",
       "      <td>integer</td>\n",
       "      <td>int</td>\n",
       "      <td>False</td>\n",
       "      <td>False</td>\n",
       "      <td>0.00000</td>\n",
       "      <td>9.0</td>\n",
       "      <td>12.0</td>\n",
       "      <td>20.0</td>\n",
       "    </tr>\n",
       "    <tr>\n",
       "      <th>7</th>\n",
       "      <td>health</td>\n",
       "      <td>string</td>\n",
       "      <td>categorical</td>\n",
       "      <td>False</td>\n",
       "      <td>False</td>\n",
       "      <td>0.00000</td>\n",
       "      <td>3.0</td>\n",
       "      <td>NaN</td>\n",
       "      <td>NaN</td>\n",
       "    </tr>\n",
       "    <tr>\n",
       "      <th>6</th>\n",
       "      <td>test_db_healthcare_dataset_HeartRate</td>\n",
       "      <td>integer</td>\n",
       "      <td>int</td>\n",
       "      <td>False</td>\n",
       "      <td>False</td>\n",
       "      <td>NaN</td>\n",
       "      <td>41.0</td>\n",
       "      <td>60.0</td>\n",
       "      <td>100.0</td>\n",
       "    </tr>\n",
       "    <tr>\n",
       "      <th>10</th>\n",
       "      <td>test_db_healthcare_dataset_OxygenSaturation</td>\n",
       "      <td>integer</td>\n",
       "      <td>int</td>\n",
       "      <td>False</td>\n",
       "      <td>False</td>\n",
       "      <td>NaN</td>\n",
       "      <td>11.0</td>\n",
       "      <td>90.0</td>\n",
       "      <td>100.0</td>\n",
       "    </tr>\n",
       "  </tbody>\n",
       "</table>\n",
       "</div>"
      ],
      "text/plain": [
       "                                                 name     type synthesize_as  \\\n",
       "9                            hud_median_family_income    float           int   \n",
       "1                                               month  integer           int   \n",
       "19  student_performance_StudentPerformanceFactors_...  integer           int   \n",
       "1                                               month  integer           int   \n",
       "14                  test_db_healthcare_dataset_Weight    float         float   \n",
       "12         test_db_healthcare_dataset_RespiratoryRate  integer   categorical   \n",
       "8                                     RespiratoryRate  integer           int   \n",
       "7                                              health   string   categorical   \n",
       "6                test_db_healthcare_dataset_HeartRate  integer           int   \n",
       "10        test_db_healthcare_dataset_OxygenSaturation  integer           int   \n",
       "\n",
       "    indirect_identifier  direct_identifier  null_ratio  unique_values  \\\n",
       "9                  True              False     0.00492          239.0   \n",
       "1                  True              False     0.00000           12.0   \n",
       "19                 True              False         NaN           45.0   \n",
       "1                  True              False     0.00000           12.0   \n",
       "14                False              False         NaN          751.0   \n",
       "12                False              False         NaN            9.0   \n",
       "8                 False              False     0.00000            9.0   \n",
       "7                 False              False     0.00000            3.0   \n",
       "6                 False              False         NaN           41.0   \n",
       "10                False              False         NaN           11.0   \n",
       "\n",
       "    min_value  max_value  \n",
       "9     37900.0   114200.0  \n",
       "1         1.0       12.0  \n",
       "19       55.0      101.0  \n",
       "1         1.0       12.0  \n",
       "14       45.0      120.0  \n",
       "12       12.0       20.0  \n",
       "8        12.0       20.0  \n",
       "7         NaN        NaN  \n",
       "6        60.0      100.0  \n",
       "10       90.0      100.0  "
      ]
     },
     "execution_count": 5,
     "metadata": {},
     "output_type": "execute_result"
    }
   ],
   "source": [
    "# concantenate all df[\"schema\"] into a single dataframe\n",
    "df_schema = pd.concat([pd.DataFrame(df[\"schema\"][i]) for i in range(len(df[\"schema\"]))])\n",
    "df_schema.sample(10)"
   ]
  },
  {
   "cell_type": "markdown",
   "metadata": {},
   "source": [
    "- ✅  We can see `name`, `type`, `indirect_identifier`, `direct_identifier`,`null_ratio`, `unique_values`,`min_value`,`max_value` and `synthesize_as` in the `schema` data. These are the schema information of the dataset."
   ]
  },
  {
   "cell_type": "code",
   "execution_count": 6,
   "metadata": {},
   "outputs": [
    {
     "data": {
      "text/html": [
       "<div>\n",
       "<style scoped>\n",
       "    .dataframe tbody tr th:only-of-type {\n",
       "        vertical-align: middle;\n",
       "    }\n",
       "\n",
       "    .dataframe tbody tr th {\n",
       "        vertical-align: top;\n",
       "    }\n",
       "\n",
       "    .dataframe thead th {\n",
       "        text-align: right;\n",
       "    }\n",
       "</style>\n",
       "<table border=\"1\" class=\"dataframe\">\n",
       "  <thead>\n",
       "    <tr style=\"text-align: right;\">\n",
       "      <th></th>\n",
       "      <th>null_ratio</th>\n",
       "      <th>unique_values</th>\n",
       "      <th>min_value</th>\n",
       "      <th>max_value</th>\n",
       "    </tr>\n",
       "  </thead>\n",
       "  <tbody>\n",
       "    <tr>\n",
       "      <th>count</th>\n",
       "      <td>318.000000</td>\n",
       "      <td>809.000000</td>\n",
       "      <td>488.000000</td>\n",
       "      <td>4.880000e+02</td>\n",
       "    </tr>\n",
       "    <tr>\n",
       "      <th>mean</th>\n",
       "      <td>0.000402</td>\n",
       "      <td>2092.792336</td>\n",
       "      <td>1138.381455</td>\n",
       "      <td>3.658530e+04</td>\n",
       "    </tr>\n",
       "    <tr>\n",
       "      <th>std</th>\n",
       "      <td>0.001298</td>\n",
       "      <td>18792.968992</td>\n",
       "      <td>5934.824897</td>\n",
       "      <td>1.427001e+05</td>\n",
       "    </tr>\n",
       "    <tr>\n",
       "      <th>min</th>\n",
       "      <td>0.000000</td>\n",
       "      <td>2.000000</td>\n",
       "      <td>-100.000000</td>\n",
       "      <td>1.000000e+00</td>\n",
       "    </tr>\n",
       "    <tr>\n",
       "      <th>25%</th>\n",
       "      <td>0.000000</td>\n",
       "      <td>4.000000</td>\n",
       "      <td>1.000000</td>\n",
       "      <td>1.200000e+01</td>\n",
       "    </tr>\n",
       "    <tr>\n",
       "      <th>50%</th>\n",
       "      <td>0.000000</td>\n",
       "      <td>12.000000</td>\n",
       "      <td>4.000000</td>\n",
       "      <td>1.000000e+02</td>\n",
       "    </tr>\n",
       "    <tr>\n",
       "      <th>75%</th>\n",
       "      <td>0.000000</td>\n",
       "      <td>131.000000</td>\n",
       "      <td>60.000000</td>\n",
       "      <td>8.500000e+02</td>\n",
       "    </tr>\n",
       "    <tr>\n",
       "      <th>max</th>\n",
       "      <td>0.004920</td>\n",
       "      <td>218133.000000</td>\n",
       "      <td>37900.000000</td>\n",
       "      <td>1.490400e+06</td>\n",
       "    </tr>\n",
       "  </tbody>\n",
       "</table>\n",
       "</div>"
      ],
      "text/plain": [
       "       null_ratio  unique_values     min_value     max_value\n",
       "count  318.000000     809.000000    488.000000  4.880000e+02\n",
       "mean     0.000402    2092.792336   1138.381455  3.658530e+04\n",
       "std      0.001298   18792.968992   5934.824897  1.427001e+05\n",
       "min      0.000000       2.000000   -100.000000  1.000000e+00\n",
       "25%      0.000000       4.000000      1.000000  1.200000e+01\n",
       "50%      0.000000      12.000000      4.000000  1.000000e+02\n",
       "75%      0.000000     131.000000     60.000000  8.500000e+02\n",
       "max      0.004920  218133.000000  37900.000000  1.490400e+06"
      ]
     },
     "execution_count": 6,
     "metadata": {},
     "output_type": "execute_result"
    }
   ],
   "source": [
    "df_schema.describe()"
   ]
  },
  {
   "cell_type": "markdown",
   "metadata": {},
   "source": [
    "- ✅  We don't see -1 in the `null_ratio` and `unique_values` columns in the `schema` data. "
   ]
  },
  {
   "cell_type": "code",
   "execution_count": 7,
   "metadata": {},
   "outputs": [
    {
     "name": "stdout",
     "output_type": "stream",
     "text": [
      "<class 'pandas.core.frame.DataFrame'>\n",
      "Index: 871 entries, 0 to 22\n",
      "Data columns (total 9 columns):\n",
      " #   Column               Non-Null Count  Dtype  \n",
      "---  ------               --------------  -----  \n",
      " 0   name                 871 non-null    object \n",
      " 1   type                 871 non-null    object \n",
      " 2   synthesize_as        809 non-null    object \n",
      " 3   indirect_identifier  871 non-null    bool   \n",
      " 4   direct_identifier    871 non-null    bool   \n",
      " 5   null_ratio           318 non-null    float64\n",
      " 6   unique_values        809 non-null    float64\n",
      " 7   min_value            488 non-null    float64\n",
      " 8   max_value            488 non-null    float64\n",
      "dtypes: bool(2), float64(4), object(3)\n",
      "memory usage: 56.1+ KB\n"
     ]
    }
   ],
   "source": [
    "df_schema.info()"
   ]
  },
  {
   "cell_type": "code",
   "execution_count": 8,
   "metadata": {},
   "outputs": [
    {
     "data": {
      "text/plain": [
       "synthesize_as\n",
       "categorical    363\n",
       "int            285\n",
       "float           92\n",
       "binary          51\n",
       "datetime        18\n",
       "Name: count, dtype: int64"
      ]
     },
     "execution_count": 8,
     "metadata": {},
     "output_type": "execute_result"
    }
   ],
   "source": [
    "df_schema[\"synthesize_as\"].value_counts()"
   ]
  },
  {
   "cell_type": "code",
   "execution_count": 9,
   "metadata": {},
   "outputs": [
    {
     "data": {
      "text/plain": [
       "name                   0.000000\n",
       "type                   0.000000\n",
       "synthesize_as          0.071183\n",
       "indirect_identifier    0.000000\n",
       "direct_identifier      0.000000\n",
       "null_ratio             0.634902\n",
       "unique_values          0.071183\n",
       "min_value              0.439724\n",
       "max_value              0.439724\n",
       "dtype: float64"
      ]
     },
     "execution_count": 9,
     "metadata": {},
     "output_type": "execute_result"
    }
   ],
   "source": [
    "# check the NaN values ratio\n",
    "df_schema.isnull().sum() / len(df_schema)"
   ]
  },
  {
   "cell_type": "markdown",
   "metadata": {},
   "source": [
    "> ⚠️ We can see the NaN values ratio pretty high in the `null_ratio` column in the `schema` data. \n",
    "\n",
    "> The NaN values ratio of `min_value` and `max_value` columns high as well in the `schema` data, it might related to the non-numeric data numbers are pretty high in the dataset."
   ]
  },
  {
   "cell_type": "code",
   "execution_count": 10,
   "metadata": {},
   "outputs": [
    {
     "data": {
      "text/html": [
       "<div>\n",
       "<style scoped>\n",
       "    .dataframe tbody tr th:only-of-type {\n",
       "        vertical-align: middle;\n",
       "    }\n",
       "\n",
       "    .dataframe tbody tr th {\n",
       "        vertical-align: top;\n",
       "    }\n",
       "\n",
       "    .dataframe thead th {\n",
       "        text-align: right;\n",
       "    }\n",
       "</style>\n",
       "<table border=\"1\" class=\"dataframe\">\n",
       "  <thead>\n",
       "    <tr style=\"text-align: right;\">\n",
       "      <th></th>\n",
       "      <th>name</th>\n",
       "      <th>threshold</th>\n",
       "      <th>score</th>\n",
       "      <th>passed</th>\n",
       "    </tr>\n",
       "  </thead>\n",
       "  <tbody>\n",
       "    <tr>\n",
       "      <th>0</th>\n",
       "      <td>Minimum row count</td>\n",
       "      <td>3000.00</td>\n",
       "      <td>25000.000000</td>\n",
       "      <td>True</td>\n",
       "    </tr>\n",
       "    <tr>\n",
       "      <th>1</th>\n",
       "      <td>Check distance distributions between real and ...</td>\n",
       "      <td>0.05</td>\n",
       "      <td>0.195684</td>\n",
       "      <td>True</td>\n",
       "    </tr>\n",
       "    <tr>\n",
       "      <th>2</th>\n",
       "      <td>Membership inference</td>\n",
       "      <td>0.55</td>\n",
       "      <td>0.467075</td>\n",
       "      <td>True</td>\n",
       "    </tr>\n",
       "    <tr>\n",
       "      <th>3</th>\n",
       "      <td>Risky row counts</td>\n",
       "      <td>237.50</td>\n",
       "      <td>1.000000</td>\n",
       "      <td>True</td>\n",
       "    </tr>\n",
       "    <tr>\n",
       "      <th>4</th>\n",
       "      <td>Row memorization</td>\n",
       "      <td>0.05</td>\n",
       "      <td>0.000000</td>\n",
       "      <td>True</td>\n",
       "    </tr>\n",
       "    <tr>\n",
       "      <th>...</th>\n",
       "      <td>...</td>\n",
       "      <td>...</td>\n",
       "      <td>...</td>\n",
       "      <td>...</td>\n",
       "    </tr>\n",
       "    <tr>\n",
       "      <th>2</th>\n",
       "      <td>Row memorization</td>\n",
       "      <td>0.05</td>\n",
       "      <td>0.000000</td>\n",
       "      <td>True</td>\n",
       "    </tr>\n",
       "    <tr>\n",
       "      <th>3</th>\n",
       "      <td>Membership inference</td>\n",
       "      <td>0.55</td>\n",
       "      <td>0.502009</td>\n",
       "      <td>True</td>\n",
       "    </tr>\n",
       "    <tr>\n",
       "      <th>4</th>\n",
       "      <td>Risky row counts</td>\n",
       "      <td>1775.76</td>\n",
       "      <td>110.000000</td>\n",
       "      <td>True</td>\n",
       "    </tr>\n",
       "    <tr>\n",
       "      <th>5</th>\n",
       "      <td>No new categorical values</td>\n",
       "      <td>0.00</td>\n",
       "      <td>0.000000</td>\n",
       "      <td>True</td>\n",
       "    </tr>\n",
       "    <tr>\n",
       "      <th>6</th>\n",
       "      <td>Attribute inference</td>\n",
       "      <td>0.10</td>\n",
       "      <td>0.000006</td>\n",
       "      <td>True</td>\n",
       "    </tr>\n",
       "  </tbody>\n",
       "</table>\n",
       "<p>434 rows × 4 columns</p>\n",
       "</div>"
      ],
      "text/plain": [
       "                                                 name  threshold  \\\n",
       "0                                   Minimum row count    3000.00   \n",
       "1   Check distance distributions between real and ...       0.05   \n",
       "2                                Membership inference       0.55   \n",
       "3                                    Risky row counts     237.50   \n",
       "4                                    Row memorization       0.05   \n",
       "..                                                ...        ...   \n",
       "2                                    Row memorization       0.05   \n",
       "3                                Membership inference       0.55   \n",
       "4                                    Risky row counts    1775.76   \n",
       "5                           No new categorical values       0.00   \n",
       "6                                 Attribute inference       0.10   \n",
       "\n",
       "           score  passed  \n",
       "0   25000.000000    True  \n",
       "1       0.195684    True  \n",
       "2       0.467075    True  \n",
       "3       1.000000    True  \n",
       "4       0.000000    True  \n",
       "..           ...     ...  \n",
       "2       0.000000    True  \n",
       "3       0.502009    True  \n",
       "4     110.000000    True  \n",
       "5       0.000000    True  \n",
       "6       0.000006    True  \n",
       "\n",
       "[434 rows x 4 columns]"
      ]
     },
     "execution_count": 10,
     "metadata": {},
     "output_type": "execute_result"
    }
   ],
   "source": [
    "# concantenate all df[\"privacy\"] into a single dataframe\n",
    "df_privacy = pd.concat(\n",
    "    [pd.DataFrame(df[\"privacy\"][i]) for i in range(len(df[\"privacy\"]))]\n",
    ")\n",
    "df_privacy"
   ]
  },
  {
   "cell_type": "code",
   "execution_count": 11,
   "metadata": {},
   "outputs": [
    {
     "data": {
      "text/plain": [
       "array(['Minimum row count',\n",
       "       'Check distance distributions between real and synthetic',\n",
       "       'Membership inference', 'Risky row counts', 'Row memorization',\n",
       "       'Attribute inference', 'No new categorical values'], dtype=object)"
      ]
     },
     "execution_count": 11,
     "metadata": {},
     "output_type": "execute_result"
    }
   ],
   "source": [
    "df_privacy[\"name\"].unique()"
   ]
  },
  {
   "cell_type": "code",
   "execution_count": 12,
   "metadata": {},
   "outputs": [
    {
     "data": {
      "text/plain": [
       "Series([], Name: count, dtype: int64)"
      ]
     },
     "execution_count": 12,
     "metadata": {},
     "output_type": "execute_result"
    }
   ],
   "source": [
    "df_privacy[df_privacy[\"passed\"] == False].value_counts()"
   ]
  },
  {
   "cell_type": "markdown",
   "metadata": {},
   "source": [
    "- ❓ No privacy test failed in the dataset. Is this expected? "
   ]
  },
  {
   "cell_type": "markdown",
   "metadata": {},
   "source": [
    "* We are now looking into three tests: `Risky row counts`, `Check distance distributions between real and synthetic`, `Row memorization`. These tests failed in the first sample dataset. "
   ]
  },
  {
   "cell_type": "code",
   "execution_count": 13,
   "metadata": {},
   "outputs": [
    {
     "data": {
      "text/plain": [
       "name              threshold  score     passed\n",
       "Row memorization  0.05       0.000000  True      59\n",
       "                             0.001221  True       1\n",
       "                             0.001347  True       1\n",
       "                             0.011958  True       1\n",
       "Name: count, dtype: int64"
      ]
     },
     "execution_count": 13,
     "metadata": {},
     "output_type": "execute_result"
    }
   ],
   "source": [
    "df_privacy[df_privacy[\"name\"] == \"Row memorization\"].value_counts()"
   ]
  },
  {
   "cell_type": "code",
   "execution_count": 14,
   "metadata": {},
   "outputs": [
    {
     "data": {
      "text/plain": [
       "name                                                     threshold  score     passed\n",
       "Check distance distributions between real and synthetic  0.05       0.068371  True      1\n",
       "                                                                    0.616561  True      1\n",
       "                                                                    0.482407  True      1\n",
       "                                                                    0.492755  True      1\n",
       "                                                                    0.500905  True      1\n",
       "                                                                                       ..\n",
       "                                                                    0.425455  True      1\n",
       "                                                                    0.436950  True      1\n",
       "                                                                    0.448084  True      1\n",
       "                                                                    0.465079  True      1\n",
       "                                                                    0.776618  True      1\n",
       "Name: count, Length: 62, dtype: int64"
      ]
     },
     "execution_count": 14,
     "metadata": {},
     "output_type": "execute_result"
    }
   ],
   "source": [
    "df_privacy[\n",
    "    df_privacy[\"name\"] == \"Check distance distributions between real and synthetic\"\n",
    "].value_counts()"
   ]
  },
  {
   "cell_type": "code",
   "execution_count": 15,
   "metadata": {},
   "outputs": [
    {
     "data": {
      "text/plain": [
       "name              threshold  score  passed\n",
       "Risky row counts  47.50      0.0    True      12\n",
       "                  237.50     0.0    True       8\n",
       "                  62.76      0.0    True       6\n",
       "                  4001.79    0.0    True       6\n",
       "                  123.12     0.0    True       6\n",
       "                  4001.78    0.0    True       3\n",
       "                  237.50     2.0    True       3\n",
       "                  4001.62    0.0    True       3\n",
       "                  237.50     6.0    True       2\n",
       "                  142.49     0.0    True       2\n",
       "                  463.99     1.0    True       1\n",
       "                  1775.76    110.0  True       1\n",
       "                             17.0   True       1\n",
       "                  463.99     3.0    True       1\n",
       "                  142.49     2.0    True       1\n",
       "                  463.99     0.0    True       1\n",
       "                  237.50     28.0   True       1\n",
       "                             4.0    True       1\n",
       "                             3.0    True       1\n",
       "                             1.0    True       1\n",
       "                             30.0   True       1\n",
       "Name: count, dtype: int64"
      ]
     },
     "execution_count": 15,
     "metadata": {},
     "output_type": "execute_result"
    }
   ],
   "source": [
    "df_privacy[df_privacy[\"name\"] == \"Risky row counts\"].value_counts()"
   ]
  },
  {
   "cell_type": "markdown",
   "metadata": {},
   "source": [
    "- ❓ The privacy test score is not all zero any more, should we use the score as indicator of the privacy test results? And what is the logic behind the privacy test score, threshold and the results?"
   ]
  },
  {
   "cell_type": "code",
   "execution_count": 16,
   "metadata": {},
   "outputs": [
    {
     "data": {
      "text/plain": [
       "indirect_identifier\n",
       "True     481\n",
       "False    390\n",
       "Name: count, dtype: int64"
      ]
     },
     "execution_count": 16,
     "metadata": {},
     "output_type": "execute_result"
    }
   ],
   "source": [
    "df_schema[\"indirect_identifier\"].value_counts()"
   ]
  },
  {
   "cell_type": "markdown",
   "metadata": {},
   "source": [
    "- ✅ We are able to see `indirect_identifier` with both `True` and `False` values."
   ]
  }
 ],
 "metadata": {
  "kernelspec": {
   "display_name": "my-env",
   "language": "python",
   "name": "python3"
  },
  "language_info": {
   "codemirror_mode": {
    "name": "ipython",
    "version": 3
   },
   "file_extension": ".py",
   "mimetype": "text/x-python",
   "name": "python",
   "nbconvert_exporter": "python",
   "pygments_lexer": "ipython3",
   "version": "3.11.5"
  }
 },
 "nbformat": 4,
 "nbformat_minor": 2
}
